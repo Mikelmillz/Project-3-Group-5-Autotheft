{
 "cells": [
  {
   "cell_type": "code",
   "execution_count": 17,
   "id": "30b42c04",
   "metadata": {},
   "outputs": [],
   "source": [
    "# importing pandas\n",
    "import pandas as pd\n",
    "from pathlib import Path\n",
    "import matplotlib.pyplot as plt\n",
    "import seaborn as sns\n",
    "import plotly.graph_objects as go\n",
    "import numpy as np"
   ]
  },
  {
   "cell_type": "code",
   "execution_count": 18,
   "id": "4232c5bd",
   "metadata": {},
   "outputs": [],
   "source": [
    "# Read the CSV file\n",
    "police_file = (\"/Police_Incidents_2023.csv\")\n",
    "df = pd.read_csv(police_file)"
   ]
  },
  {
   "cell_type": "code",
   "execution_count": 19,
   "id": "b58f2009",
   "metadata": {},
   "outputs": [
    {
     "data": {
      "text/html": [
       "<div>\n",
       "<style scoped>\n",
       "    .dataframe tbody tr th:only-of-type {\n",
       "        vertical-align: middle;\n",
       "    }\n",
       "\n",
       "    .dataframe tbody tr th {\n",
       "        vertical-align: top;\n",
       "    }\n",
       "\n",
       "    .dataframe thead th {\n",
       "        text-align: right;\n",
       "    }\n",
       "</style>\n",
       "<table border=\"1\" class=\"dataframe\">\n",
       "  <thead>\n",
       "    <tr style=\"text-align: right;\">\n",
       "      <th></th>\n",
       "      <th>publicaddress</th>\n",
       "      <th>caseNumber</th>\n",
       "      <th>precinct</th>\n",
       "      <th>reportedDate</th>\n",
       "      <th>reportedDateTime</th>\n",
       "      <th>offense</th>\n",
       "      <th>description</th>\n",
       "      <th>centerLong</th>\n",
       "      <th>centerLat</th>\n",
       "      <th>centerX</th>\n",
       "      <th>centerY</th>\n",
       "      <th>neighborhood</th>\n",
       "    </tr>\n",
       "  </thead>\n",
       "  <tbody>\n",
       "    <tr>\n",
       "      <th>0</th>\n",
       "      <td>0004XX BORDER AVE N</td>\n",
       "      <td>MP202327184</td>\n",
       "      <td>1</td>\n",
       "      <td>2023/02/03 00:00:00+00</td>\n",
       "      <td>2023/02/03 18:24:00+00</td>\n",
       "      <td>CSCR</td>\n",
       "      <td>CSC - RAPE</td>\n",
       "      <td>-93.28530</td>\n",
       "      <td>44.98286</td>\n",
       "      <td>-10384472.21</td>\n",
       "      <td>5618823.534</td>\n",
       "      <td>North Loop</td>\n",
       "    </tr>\n",
       "    <tr>\n",
       "      <th>1</th>\n",
       "      <td>0045XX OSSEO RD</td>\n",
       "      <td>MP202335824</td>\n",
       "      <td>4</td>\n",
       "      <td>2023/02/13 00:00:00+00</td>\n",
       "      <td>2023/02/13 14:59:00+00</td>\n",
       "      <td>CARJCK</td>\n",
       "      <td>ROBBERY INCLUDING AUTO THEFT</td>\n",
       "      <td>-93.31327</td>\n",
       "      <td>45.03821</td>\n",
       "      <td>-10387585.14</td>\n",
       "      <td>5627538.576</td>\n",
       "      <td>Victory</td>\n",
       "    </tr>\n",
       "    <tr>\n",
       "      <th>2</th>\n",
       "      <td>BLAISDELL AVE / 26TH ST W</td>\n",
       "      <td>MP202337360</td>\n",
       "      <td>5</td>\n",
       "      <td>2023/02/15 00:00:00+00</td>\n",
       "      <td>2023/02/15 12:57:00+00</td>\n",
       "      <td>AUTOTH</td>\n",
       "      <td>AUTOMOBILE THEFT</td>\n",
       "      <td>-93.27964</td>\n",
       "      <td>44.95553</td>\n",
       "      <td>-10383841.88</td>\n",
       "      <td>5614523.862</td>\n",
       "      <td>Whittier</td>\n",
       "    </tr>\n",
       "    <tr>\n",
       "      <th>3</th>\n",
       "      <td>0014XX NEW BRIGHTON BLVD</td>\n",
       "      <td>MP202344523</td>\n",
       "      <td>2</td>\n",
       "      <td>2023/02/28 00:00:00+00</td>\n",
       "      <td>2023/02/28 12:09:00+00</td>\n",
       "      <td>THEFT</td>\n",
       "      <td>OTHER THEFT</td>\n",
       "      <td>-93.22883</td>\n",
       "      <td>45.00364</td>\n",
       "      <td>-10378186.34</td>\n",
       "      <td>5622094.403</td>\n",
       "      <td>Northeast Park</td>\n",
       "    </tr>\n",
       "    <tr>\n",
       "      <th>4</th>\n",
       "      <td>0024XX GOLDEN VALLEY RD</td>\n",
       "      <td>MP202345920</td>\n",
       "      <td>4</td>\n",
       "      <td>2023/02/27 00:00:00+00</td>\n",
       "      <td>2023/02/27 14:35:00+00</td>\n",
       "      <td>BURGD</td>\n",
       "      <td>BURGLARY OF DWELLING</td>\n",
       "      <td>-93.31141</td>\n",
       "      <td>44.99879</td>\n",
       "      <td>-10387378.96</td>\n",
       "      <td>5621331.328</td>\n",
       "      <td>Willard - Hay</td>\n",
       "    </tr>\n",
       "  </tbody>\n",
       "</table>\n",
       "</div>"
      ],
      "text/plain": [
       "               publicaddress   caseNumber precinct            reportedDate  \\\n",
       "0        0004XX BORDER AVE N  MP202327184        1  2023/02/03 00:00:00+00   \n",
       "1            0045XX OSSEO RD  MP202335824        4  2023/02/13 00:00:00+00   \n",
       "2  BLAISDELL AVE / 26TH ST W  MP202337360        5  2023/02/15 00:00:00+00   \n",
       "3   0014XX NEW BRIGHTON BLVD  MP202344523        2  2023/02/28 00:00:00+00   \n",
       "4    0024XX GOLDEN VALLEY RD  MP202345920        4  2023/02/27 00:00:00+00   \n",
       "\n",
       "         reportedDateTime offense                   description  centerLong  \\\n",
       "0  2023/02/03 18:24:00+00    CSCR                    CSC - RAPE   -93.28530   \n",
       "1  2023/02/13 14:59:00+00  CARJCK  ROBBERY INCLUDING AUTO THEFT   -93.31327   \n",
       "2  2023/02/15 12:57:00+00  AUTOTH              AUTOMOBILE THEFT   -93.27964   \n",
       "3  2023/02/28 12:09:00+00   THEFT                   OTHER THEFT   -93.22883   \n",
       "4  2023/02/27 14:35:00+00   BURGD          BURGLARY OF DWELLING   -93.31141   \n",
       "\n",
       "   centerLat      centerX      centerY    neighborhood  \n",
       "0   44.98286 -10384472.21  5618823.534      North Loop  \n",
       "1   45.03821 -10387585.14  5627538.576         Victory  \n",
       "2   44.95553 -10383841.88  5614523.862        Whittier  \n",
       "3   45.00364 -10378186.34  5622094.403  Northeast Park  \n",
       "4   44.99879 -10387378.96  5621331.328   Willard - Hay  "
      ]
     },
     "execution_count": 19,
     "metadata": {},
     "output_type": "execute_result"
    }
   ],
   "source": [
    "new_df = df[['publicaddress', 'caseNumber', 'precinct', 'reportedDate', 'reportedDateTime',\n",
    "             'offense', 'description', 'centerLong', 'centerLat', 'centerX', 'centerY', 'neighborhood',]]\n",
    "new_df.head()"
   ]
  },
  {
   "cell_type": "code",
   "execution_count": 20,
   "id": "12227c2c",
   "metadata": {},
   "outputs": [
    {
     "data": {
      "text/html": [
       "<div>\n",
       "<style scoped>\n",
       "    .dataframe tbody tr th:only-of-type {\n",
       "        vertical-align: middle;\n",
       "    }\n",
       "\n",
       "    .dataframe tbody tr th {\n",
       "        vertical-align: top;\n",
       "    }\n",
       "\n",
       "    .dataframe thead th {\n",
       "        text-align: right;\n",
       "    }\n",
       "</style>\n",
       "<table border=\"1\" class=\"dataframe\">\n",
       "  <thead>\n",
       "    <tr style=\"text-align: right;\">\n",
       "      <th></th>\n",
       "      <th>id</th>\n",
       "      <th>publicaddress</th>\n",
       "      <th>caseNumber</th>\n",
       "      <th>precinct</th>\n",
       "      <th>reportedDate</th>\n",
       "      <th>reportedDateTime</th>\n",
       "      <th>offense</th>\n",
       "      <th>description</th>\n",
       "      <th>centerLong</th>\n",
       "      <th>centerLat</th>\n",
       "      <th>centerX</th>\n",
       "      <th>centerY</th>\n",
       "      <th>neighborhood</th>\n",
       "    </tr>\n",
       "  </thead>\n",
       "  <tbody>\n",
       "    <tr>\n",
       "      <th>0</th>\n",
       "      <td>2</td>\n",
       "      <td>BLAISDELL AVE / 26TH ST W</td>\n",
       "      <td>MP202337360</td>\n",
       "      <td>5</td>\n",
       "      <td>2023/02/15 00:00:00+00</td>\n",
       "      <td>2023/02/15 12:57:00+00</td>\n",
       "      <td>AUTOTH</td>\n",
       "      <td>AUTOMOBILE THEFT</td>\n",
       "      <td>-93.27964</td>\n",
       "      <td>44.95553</td>\n",
       "      <td>-10383841.88</td>\n",
       "      <td>5614523.862</td>\n",
       "      <td>Whittier</td>\n",
       "    </tr>\n",
       "    <tr>\n",
       "      <th>1</th>\n",
       "      <td>5</td>\n",
       "      <td>0026XX GIRARD AVE N</td>\n",
       "      <td>MP202346685</td>\n",
       "      <td>4</td>\n",
       "      <td>2023/02/26 00:00:00+00</td>\n",
       "      <td>2023/02/26 15:23:00+00</td>\n",
       "      <td>AUTOTH</td>\n",
       "      <td>AUTOMOBILE THEFT</td>\n",
       "      <td>-93.29683</td>\n",
       "      <td>45.00686</td>\n",
       "      <td>-10385756.02</td>\n",
       "      <td>5622602.050</td>\n",
       "      <td>Jordan</td>\n",
       "    </tr>\n",
       "    <tr>\n",
       "      <th>2</th>\n",
       "      <td>12</td>\n",
       "      <td>0020XX CENTRAL AVE NE</td>\n",
       "      <td>MP202347923</td>\n",
       "      <td>2</td>\n",
       "      <td>2023/02/27 00:00:00+00</td>\n",
       "      <td>2023/02/27 21:43:00+00</td>\n",
       "      <td>AUTOTH</td>\n",
       "      <td>AUTOMOBILE THEFT</td>\n",
       "      <td>-93.24737</td>\n",
       "      <td>45.00939</td>\n",
       "      <td>-10380249.37</td>\n",
       "      <td>5622999.848</td>\n",
       "      <td>Windom Park</td>\n",
       "    </tr>\n",
       "    <tr>\n",
       "      <th>3</th>\n",
       "      <td>14</td>\n",
       "      <td>0030XX 29TH AVE S</td>\n",
       "      <td>MP202348059</td>\n",
       "      <td>3</td>\n",
       "      <td>2023/02/28 00:00:00+00</td>\n",
       "      <td>2023/02/28 03:00:00+00</td>\n",
       "      <td>AUTOTH</td>\n",
       "      <td>AUTOMOBILE THEFT</td>\n",
       "      <td>-93.23000</td>\n",
       "      <td>44.94761</td>\n",
       "      <td>-10378316.53</td>\n",
       "      <td>5613277.544</td>\n",
       "      <td>Longfellow</td>\n",
       "    </tr>\n",
       "    <tr>\n",
       "      <th>4</th>\n",
       "      <td>16</td>\n",
       "      <td>0057XX BLAISDELL AVE</td>\n",
       "      <td>MP202348108</td>\n",
       "      <td>5</td>\n",
       "      <td>2023/02/28 00:00:00+00</td>\n",
       "      <td>2023/02/28 09:07:00+00</td>\n",
       "      <td>AUTOTH</td>\n",
       "      <td>AUTOMOBILE THEFT</td>\n",
       "      <td>-93.27937</td>\n",
       "      <td>44.89877</td>\n",
       "      <td>-10383812.49</td>\n",
       "      <td>5605599.538</td>\n",
       "      <td>Windom</td>\n",
       "    </tr>\n",
       "  </tbody>\n",
       "</table>\n",
       "</div>"
      ],
      "text/plain": [
       "   id              publicaddress   caseNumber precinct  \\\n",
       "0   2  BLAISDELL AVE / 26TH ST W  MP202337360        5   \n",
       "1   5        0026XX GIRARD AVE N  MP202346685        4   \n",
       "2  12      0020XX CENTRAL AVE NE  MP202347923        2   \n",
       "3  14          0030XX 29TH AVE S  MP202348059        3   \n",
       "4  16       0057XX BLAISDELL AVE  MP202348108        5   \n",
       "\n",
       "             reportedDate        reportedDateTime offense       description  \\\n",
       "0  2023/02/15 00:00:00+00  2023/02/15 12:57:00+00  AUTOTH  AUTOMOBILE THEFT   \n",
       "1  2023/02/26 00:00:00+00  2023/02/26 15:23:00+00  AUTOTH  AUTOMOBILE THEFT   \n",
       "2  2023/02/27 00:00:00+00  2023/02/27 21:43:00+00  AUTOTH  AUTOMOBILE THEFT   \n",
       "3  2023/02/28 00:00:00+00  2023/02/28 03:00:00+00  AUTOTH  AUTOMOBILE THEFT   \n",
       "4  2023/02/28 00:00:00+00  2023/02/28 09:07:00+00  AUTOTH  AUTOMOBILE THEFT   \n",
       "\n",
       "   centerLong  centerLat      centerX      centerY neighborhood  \n",
       "0   -93.27964   44.95553 -10383841.88  5614523.862     Whittier  \n",
       "1   -93.29683   45.00686 -10385756.02  5622602.050       Jordan  \n",
       "2   -93.24737   45.00939 -10380249.37  5622999.848  Windom Park  \n",
       "3   -93.23000   44.94761 -10378316.53  5613277.544   Longfellow  \n",
       "4   -93.27937   44.89877 -10383812.49  5605599.538       Windom  "
      ]
     },
     "execution_count": 20,
     "metadata": {},
     "output_type": "execute_result"
    }
   ],
   "source": [
    "autoth_df = new_df.loc[new_df[\"offense\"] == \"AUTOTH\"]\n",
    "autoth_df = autoth_df.reset_index(drop= False, names= 'id')\n",
    "autoth_df.head()"
   ]
  },
  {
   "cell_type": "code",
   "execution_count": 21,
   "id": "de53c148",
   "metadata": {},
   "outputs": [],
   "source": [
    "autoth_df.to_csv('autoth_dataframe.csv', index=False)"
   ]
  },
  {
   "cell_type": "code",
   "execution_count": 22,
   "id": "bfff02a0",
   "metadata": {},
   "outputs": [
    {
     "name": "stdout",
     "output_type": "stream",
     "text": [
      "count of precinct 1 is 765\n",
      "with the neighborhood breakdown of neighborhood\n",
      "Cedar Riverside    187\n",
      "Downtown West      172\n",
      "Loring Park        149\n",
      "Elliot Park        119\n",
      "North Loop          96\n",
      "Downtown East       42\n",
      "Name: count, dtype: int64\n",
      "count of precinct 2 is 1275\n",
      "with the neighborhood breakdown of neighborhood\n",
      "Marcy Holmes                       280\n",
      "Prospect Park - East River Road    146\n",
      "Holland                            101\n",
      "Como                                80\n",
      "Windom Park                         74\n",
      "Logan Park                          74\n",
      "St. Anthony West                    73\n",
      "Sheridan                            71\n",
      "Audubon Park                        54\n",
      "St. Anthony East                    45\n",
      "Waite Park                          42\n",
      "Northeast Park                      41\n",
      "Bottineau                           36\n",
      "Marshall Terrace                    35\n",
      "Beltrami                            33\n",
      "Mid - City Industrial               31\n",
      "Nicollet Island - East Bank         25\n",
      "Columbia Park                       18\n",
      "University of Minnesota             16\n",
      "Name: count, dtype: int64\n",
      "count of precinct 3 is 2394\n",
      "with the neighborhood breakdown of neighborhood\n",
      "Seward              192\n",
      "Central             191\n",
      "Powderhorn Park     185\n",
      "Longfellow          172\n",
      "Ventura Village     169\n",
      "Midtown Phillips    168\n",
      "Phillips West       147\n",
      "East Phillips       135\n",
      "Hiawatha            123\n",
      "Corcoran            122\n",
      "Standish            118\n",
      "Howe                 80\n",
      "Bancroft             74\n",
      "Northrop             60\n",
      "Bryant               58\n",
      "Ericsson             57\n",
      "Regina               50\n",
      "Diamond Lake         50\n",
      "Cooper               48\n",
      "Minnehaha            41\n",
      "Wenonah              38\n",
      "Field                34\n",
      "Hale                 27\n",
      "Morris Park          23\n",
      "Keewaydin            22\n",
      "Page                 10\n",
      "Name: count, dtype: int64\n",
      "count of precinct 4 is 1358\n",
      "with the neighborhood breakdown of neighborhood\n",
      "Willard - Hay               176\n",
      "Jordan                      174\n",
      "Near - North                167\n",
      "Hawthorne                   146\n",
      "Folwell                     127\n",
      "Webber - Camden             103\n",
      "McKinley                     84\n",
      "Lind - Bohanon               84\n",
      "Harrison                     79\n",
      "Victory                      60\n",
      "Cleveland                    47\n",
      "Sumner - Glenwood            42\n",
      "Bryn - Mawr                  31\n",
      "Shingle Creek                30\n",
      "Camden Industrial             7\n",
      "Humboldt Industrial Area      1\n",
      "Name: count, dtype: int64\n",
      "count of precinct 5 is 2200\n",
      "with the neighborhood breakdown of neighborhood\n",
      "Whittier                            581\n",
      "Lowry Hill East                     304\n",
      "Lyndale                             265\n",
      "South Uptown                        143\n",
      "King Field                          134\n",
      "Steven's Square - Loring Heights    127\n",
      "East Isles                          112\n",
      "Lowry Hill                           84\n",
      "Windom                               73\n",
      "East Harriet                         58\n",
      "Linden Hills                         51\n",
      "East Bde Maka Ska                    50\n",
      "Tangletown                           45\n",
      "West Maka Ska                        38\n",
      "Cedar - Isles - Dean                 29\n",
      "Lynnhurst                            27\n",
      "Kenwood                              25\n",
      "Fulton                               24\n",
      "Armatage                             17\n",
      "Kenny                                12\n",
      "Standish                              1\n",
      "Name: count, dtype: int64\n"
     ]
    }
   ],
   "source": [
    "# Load the data into autoth_df DataFrame\n",
    "\n",
    "autoth_df = pd.read_csv('autoth_dataframe.csv')\n",
    "\n",
    "# Filter and count for each precinct\n",
    "precincts = [\"1\", \"2\", \"3\", \"4\", \"5\"]\n",
    "counts = []\n",
    "max_neighborhoods = []\n",
    "\n",
    "for precinct in precincts:\n",
    "    count_precinct = autoth_df[autoth_df[\"precinct\"] == precinct]\n",
    "    max_precinct = count_precinct[\"neighborhood\"].value_counts()\n",
    "    max_precinct_count = max_precinct.max()\n",
    "    ind_count_precinct = count_precinct[\"precinct\"].count()\n",
    "    \n",
    "    counts.append(ind_count_precinct)\n",
    "    max_neighborhoods.append(max_precinct)\n",
    "    \n",
    "    print(f\"count of precinct {precinct} is {ind_count_precinct}\")\n",
    "    print(f\"with the neighborhood breakdown of {max_precinct}\")"
   ]
  },
  {
   "cell_type": "code",
   "execution_count": 23,
   "id": "12a2be08",
   "metadata": {},
   "outputs": [],
   "source": [
    "# Create a DataFrame with precinct counts\n",
    "ydf = pd.Series(counts, index=precincts)"
   ]
  },
  {
   "cell_type": "code",
   "execution_count": 25,
   "id": "8ea8a21d",
   "metadata": {},
   "outputs": [
    {
     "name": "stdout",
     "output_type": "stream",
     "text": [
      "count of precinct 1 is 765\n",
      "with the neighborhood breakdown of neighborhood\n",
      "Cedar Riverside    187\n",
      "Downtown West      172\n",
      "Loring Park        149\n",
      "Elliot Park        119\n",
      "North Loop          96\n",
      "Downtown East       42\n",
      "Name: count, dtype: int64\n",
      "count of precinct 2 is 1275\n",
      "with the neighborhood breakdown of neighborhood\n",
      "Marcy Holmes                       280\n",
      "Prospect Park - East River Road    146\n",
      "Holland                            101\n",
      "Como                                80\n",
      "Windom Park                         74\n",
      "Logan Park                          74\n",
      "St. Anthony West                    73\n",
      "Sheridan                            71\n",
      "Audubon Park                        54\n",
      "St. Anthony East                    45\n",
      "Waite Park                          42\n",
      "Northeast Park                      41\n",
      "Bottineau                           36\n",
      "Marshall Terrace                    35\n",
      "Beltrami                            33\n",
      "Mid - City Industrial               31\n",
      "Nicollet Island - East Bank         25\n",
      "Columbia Park                       18\n",
      "University of Minnesota             16\n",
      "Name: count, dtype: int64\n",
      "count of precinct 3 is 2394\n",
      "with the neighborhood breakdown of neighborhood\n",
      "Seward              192\n",
      "Central             191\n",
      "Powderhorn Park     185\n",
      "Longfellow          172\n",
      "Ventura Village     169\n",
      "Midtown Phillips    168\n",
      "Phillips West       147\n",
      "East Phillips       135\n",
      "Hiawatha            123\n",
      "Corcoran            122\n",
      "Standish            118\n",
      "Howe                 80\n",
      "Bancroft             74\n",
      "Northrop             60\n",
      "Bryant               58\n",
      "Ericsson             57\n",
      "Regina               50\n",
      "Diamond Lake         50\n",
      "Cooper               48\n",
      "Minnehaha            41\n",
      "Wenonah              38\n",
      "Field                34\n",
      "Hale                 27\n",
      "Morris Park          23\n",
      "Keewaydin            22\n",
      "Page                 10\n",
      "Name: count, dtype: int64\n",
      "count of precinct 4 is 1358\n",
      "with the neighborhood breakdown of neighborhood\n",
      "Willard - Hay               176\n",
      "Jordan                      174\n",
      "Near - North                167\n",
      "Hawthorne                   146\n",
      "Folwell                     127\n",
      "Webber - Camden             103\n",
      "McKinley                     84\n",
      "Lind - Bohanon               84\n",
      "Harrison                     79\n",
      "Victory                      60\n",
      "Cleveland                    47\n",
      "Sumner - Glenwood            42\n",
      "Bryn - Mawr                  31\n",
      "Shingle Creek                30\n",
      "Camden Industrial             7\n",
      "Humboldt Industrial Area      1\n",
      "Name: count, dtype: int64\n",
      "count of precinct 5 is 2200\n",
      "with the neighborhood breakdown of neighborhood\n",
      "Whittier                            581\n",
      "Lowry Hill East                     304\n",
      "Lyndale                             265\n",
      "South Uptown                        143\n",
      "King Field                          134\n",
      "Steven's Square - Loring Heights    127\n",
      "East Isles                          112\n",
      "Lowry Hill                           84\n",
      "Windom                               73\n",
      "East Harriet                         58\n",
      "Linden Hills                         51\n",
      "East Bde Maka Ska                    50\n",
      "Tangletown                           45\n",
      "West Maka Ska                        38\n",
      "Cedar - Isles - Dean                 29\n",
      "Lynnhurst                            27\n",
      "Kenwood                              25\n",
      "Fulton                               24\n",
      "Armatage                             17\n",
      "Kenny                                12\n",
      "Standish                              1\n",
      "Name: count, dtype: int64\n"
     ]
    }
   ],
   "source": [
    "for precinct in precincts:\n",
    "    count_precinct = autoth_df.loc[autoth_df[\"precinct\"] == precinct].copy()\n",
    "    max_precinct = count_precinct[\"neighborhood\"].value_counts()\n",
    "    max_precinct_count = max_precinct.max()\n",
    "    ind_count_precinct = count_precinct[\"precinct\"].count()\n",
    "    \n",
    "    counts.append(ind_count_precinct)\n",
    "    max_neighborhoods.append(max_precinct)\n",
    "    \n",
    "    print(f\"count of precinct {precinct} is {ind_count_precinct}\")\n",
    "    print(f\"with the neighborhood breakdown of {max_precinct}\")"
   ]
  },
  {
   "cell_type": "code",
   "execution_count": 26,
   "id": "e54c31e1",
   "metadata": {},
   "outputs": [],
   "source": [
    "# Resample reported dates by week for each precinct\n",
    "df_scatter = pd.DataFrame()\n",
    "\n",
    "for i, date_precinct in enumerate(date_precincts):\n",
    "    resampled_dates = date_precinct.resample(\"W\").size()  # No need to specify 'on' parameter with the index set\n",
    "    df_scatter[f\"precinct {precincts[i]}\"] = resampled_dates"
   ]
  },
  {
   "cell_type": "code",
   "execution_count": 27,
   "id": "7c4c935c",
   "metadata": {},
   "outputs": [
    {
     "data": {
      "application/vnd.plotly.v1+json": {
       "config": {
        "plotlyServerURL": "https://plot.ly"
       },
       "data": [
        {
         "type": "scatter",
         "visible": true,
         "x": [
          "2023-01-01T00:00:00+00:00",
          "2023-01-08T00:00:00+00:00",
          "2023-01-15T00:00:00+00:00",
          "2023-01-22T00:00:00+00:00",
          "2023-01-29T00:00:00+00:00",
          "2023-02-05T00:00:00+00:00",
          "2023-02-12T00:00:00+00:00",
          "2023-02-19T00:00:00+00:00",
          "2023-02-26T00:00:00+00:00",
          "2023-03-05T00:00:00+00:00",
          "2023-03-12T00:00:00+00:00",
          "2023-03-19T00:00:00+00:00",
          "2023-03-26T00:00:00+00:00",
          "2023-04-02T00:00:00+00:00",
          "2023-04-09T00:00:00+00:00",
          "2023-04-16T00:00:00+00:00",
          "2023-04-23T00:00:00+00:00",
          "2023-04-30T00:00:00+00:00",
          "2023-05-07T00:00:00+00:00",
          "2023-05-14T00:00:00+00:00",
          "2023-05-21T00:00:00+00:00",
          "2023-05-28T00:00:00+00:00",
          "2023-06-04T00:00:00+00:00",
          "2023-06-11T00:00:00+00:00",
          "2023-06-18T00:00:00+00:00",
          "2023-06-25T00:00:00+00:00",
          "2023-07-02T00:00:00+00:00",
          "2023-07-09T00:00:00+00:00",
          "2023-07-16T00:00:00+00:00",
          "2023-07-23T00:00:00+00:00",
          "2023-07-30T00:00:00+00:00",
          "2023-08-06T00:00:00+00:00",
          "2023-08-13T00:00:00+00:00",
          "2023-08-20T00:00:00+00:00",
          "2023-08-27T00:00:00+00:00",
          "2023-09-03T00:00:00+00:00",
          "2023-09-10T00:00:00+00:00",
          "2023-09-17T00:00:00+00:00",
          "2023-09-24T00:00:00+00:00",
          "2023-10-01T00:00:00+00:00",
          "2023-10-08T00:00:00+00:00",
          "2023-10-15T00:00:00+00:00",
          "2023-10-22T00:00:00+00:00",
          "2023-10-29T00:00:00+00:00",
          "2023-11-05T00:00:00+00:00",
          "2023-11-12T00:00:00+00:00",
          "2023-11-19T00:00:00+00:00",
          "2023-11-26T00:00:00+00:00",
          "2023-12-03T00:00:00+00:00",
          "2023-12-10T00:00:00+00:00",
          "2023-12-17T00:00:00+00:00",
          "2023-12-24T00:00:00+00:00",
          "2023-12-31T00:00:00+00:00",
          "2024-01-07T00:00:00+00:00",
          "2024-01-14T00:00:00+00:00",
          "2024-01-21T00:00:00+00:00"
         ],
         "y": [
          4,
          8,
          13,
          11,
          18,
          17,
          21,
          16,
          12,
          17,
          16,
          12,
          18,
          10,
          25,
          13,
          14,
          12,
          7,
          15,
          12,
          15,
          20,
          11,
          16,
          16,
          12,
          13,
          19,
          18,
          34,
          16,
          23,
          18,
          20,
          13,
          13,
          13,
          12,
          10,
          8,
          10,
          27,
          12,
          4,
          8,
          9,
          7,
          20,
          5,
          14,
          8,
          7,
          7,
          10,
          6
         ]
        }
       ],
       "layout": {
        "showlegend": false,
        "template": {
         "data": {
          "bar": [
           {
            "error_x": {
             "color": "#2a3f5f"
            },
            "error_y": {
             "color": "#2a3f5f"
            },
            "marker": {
             "line": {
              "color": "#E5ECF6",
              "width": 0.5
             },
             "pattern": {
              "fillmode": "overlay",
              "size": 10,
              "solidity": 0.2
             }
            },
            "type": "bar"
           }
          ],
          "barpolar": [
           {
            "marker": {
             "line": {
              "color": "#E5ECF6",
              "width": 0.5
             },
             "pattern": {
              "fillmode": "overlay",
              "size": 10,
              "solidity": 0.2
             }
            },
            "type": "barpolar"
           }
          ],
          "carpet": [
           {
            "aaxis": {
             "endlinecolor": "#2a3f5f",
             "gridcolor": "white",
             "linecolor": "white",
             "minorgridcolor": "white",
             "startlinecolor": "#2a3f5f"
            },
            "baxis": {
             "endlinecolor": "#2a3f5f",
             "gridcolor": "white",
             "linecolor": "white",
             "minorgridcolor": "white",
             "startlinecolor": "#2a3f5f"
            },
            "type": "carpet"
           }
          ],
          "choropleth": [
           {
            "colorbar": {
             "outlinewidth": 0,
             "ticks": ""
            },
            "type": "choropleth"
           }
          ],
          "contour": [
           {
            "colorbar": {
             "outlinewidth": 0,
             "ticks": ""
            },
            "colorscale": [
             [
              0,
              "#0d0887"
             ],
             [
              0.1111111111111111,
              "#46039f"
             ],
             [
              0.2222222222222222,
              "#7201a8"
             ],
             [
              0.3333333333333333,
              "#9c179e"
             ],
             [
              0.4444444444444444,
              "#bd3786"
             ],
             [
              0.5555555555555556,
              "#d8576b"
             ],
             [
              0.6666666666666666,
              "#ed7953"
             ],
             [
              0.7777777777777778,
              "#fb9f3a"
             ],
             [
              0.8888888888888888,
              "#fdca26"
             ],
             [
              1,
              "#f0f921"
             ]
            ],
            "type": "contour"
           }
          ],
          "contourcarpet": [
           {
            "colorbar": {
             "outlinewidth": 0,
             "ticks": ""
            },
            "type": "contourcarpet"
           }
          ],
          "heatmap": [
           {
            "colorbar": {
             "outlinewidth": 0,
             "ticks": ""
            },
            "colorscale": [
             [
              0,
              "#0d0887"
             ],
             [
              0.1111111111111111,
              "#46039f"
             ],
             [
              0.2222222222222222,
              "#7201a8"
             ],
             [
              0.3333333333333333,
              "#9c179e"
             ],
             [
              0.4444444444444444,
              "#bd3786"
             ],
             [
              0.5555555555555556,
              "#d8576b"
             ],
             [
              0.6666666666666666,
              "#ed7953"
             ],
             [
              0.7777777777777778,
              "#fb9f3a"
             ],
             [
              0.8888888888888888,
              "#fdca26"
             ],
             [
              1,
              "#f0f921"
             ]
            ],
            "type": "heatmap"
           }
          ],
          "heatmapgl": [
           {
            "colorbar": {
             "outlinewidth": 0,
             "ticks": ""
            },
            "colorscale": [
             [
              0,
              "#0d0887"
             ],
             [
              0.1111111111111111,
              "#46039f"
             ],
             [
              0.2222222222222222,
              "#7201a8"
             ],
             [
              0.3333333333333333,
              "#9c179e"
             ],
             [
              0.4444444444444444,
              "#bd3786"
             ],
             [
              0.5555555555555556,
              "#d8576b"
             ],
             [
              0.6666666666666666,
              "#ed7953"
             ],
             [
              0.7777777777777778,
              "#fb9f3a"
             ],
             [
              0.8888888888888888,
              "#fdca26"
             ],
             [
              1,
              "#f0f921"
             ]
            ],
            "type": "heatmapgl"
           }
          ],
          "histogram": [
           {
            "marker": {
             "pattern": {
              "fillmode": "overlay",
              "size": 10,
              "solidity": 0.2
             }
            },
            "type": "histogram"
           }
          ],
          "histogram2d": [
           {
            "colorbar": {
             "outlinewidth": 0,
             "ticks": ""
            },
            "colorscale": [
             [
              0,
              "#0d0887"
             ],
             [
              0.1111111111111111,
              "#46039f"
             ],
             [
              0.2222222222222222,
              "#7201a8"
             ],
             [
              0.3333333333333333,
              "#9c179e"
             ],
             [
              0.4444444444444444,
              "#bd3786"
             ],
             [
              0.5555555555555556,
              "#d8576b"
             ],
             [
              0.6666666666666666,
              "#ed7953"
             ],
             [
              0.7777777777777778,
              "#fb9f3a"
             ],
             [
              0.8888888888888888,
              "#fdca26"
             ],
             [
              1,
              "#f0f921"
             ]
            ],
            "type": "histogram2d"
           }
          ],
          "histogram2dcontour": [
           {
            "colorbar": {
             "outlinewidth": 0,
             "ticks": ""
            },
            "colorscale": [
             [
              0,
              "#0d0887"
             ],
             [
              0.1111111111111111,
              "#46039f"
             ],
             [
              0.2222222222222222,
              "#7201a8"
             ],
             [
              0.3333333333333333,
              "#9c179e"
             ],
             [
              0.4444444444444444,
              "#bd3786"
             ],
             [
              0.5555555555555556,
              "#d8576b"
             ],
             [
              0.6666666666666666,
              "#ed7953"
             ],
             [
              0.7777777777777778,
              "#fb9f3a"
             ],
             [
              0.8888888888888888,
              "#fdca26"
             ],
             [
              1,
              "#f0f921"
             ]
            ],
            "type": "histogram2dcontour"
           }
          ],
          "mesh3d": [
           {
            "colorbar": {
             "outlinewidth": 0,
             "ticks": ""
            },
            "type": "mesh3d"
           }
          ],
          "parcoords": [
           {
            "line": {
             "colorbar": {
              "outlinewidth": 0,
              "ticks": ""
             }
            },
            "type": "parcoords"
           }
          ],
          "pie": [
           {
            "automargin": true,
            "type": "pie"
           }
          ],
          "scatter": [
           {
            "fillpattern": {
             "fillmode": "overlay",
             "size": 10,
             "solidity": 0.2
            },
            "type": "scatter"
           }
          ],
          "scatter3d": [
           {
            "line": {
             "colorbar": {
              "outlinewidth": 0,
              "ticks": ""
             }
            },
            "marker": {
             "colorbar": {
              "outlinewidth": 0,
              "ticks": ""
             }
            },
            "type": "scatter3d"
           }
          ],
          "scattercarpet": [
           {
            "marker": {
             "colorbar": {
              "outlinewidth": 0,
              "ticks": ""
             }
            },
            "type": "scattercarpet"
           }
          ],
          "scattergeo": [
           {
            "marker": {
             "colorbar": {
              "outlinewidth": 0,
              "ticks": ""
             }
            },
            "type": "scattergeo"
           }
          ],
          "scattergl": [
           {
            "marker": {
             "colorbar": {
              "outlinewidth": 0,
              "ticks": ""
             }
            },
            "type": "scattergl"
           }
          ],
          "scattermapbox": [
           {
            "marker": {
             "colorbar": {
              "outlinewidth": 0,
              "ticks": ""
             }
            },
            "type": "scattermapbox"
           }
          ],
          "scatterpolar": [
           {
            "marker": {
             "colorbar": {
              "outlinewidth": 0,
              "ticks": ""
             }
            },
            "type": "scatterpolar"
           }
          ],
          "scatterpolargl": [
           {
            "marker": {
             "colorbar": {
              "outlinewidth": 0,
              "ticks": ""
             }
            },
            "type": "scatterpolargl"
           }
          ],
          "scatterternary": [
           {
            "marker": {
             "colorbar": {
              "outlinewidth": 0,
              "ticks": ""
             }
            },
            "type": "scatterternary"
           }
          ],
          "surface": [
           {
            "colorbar": {
             "outlinewidth": 0,
             "ticks": ""
            },
            "colorscale": [
             [
              0,
              "#0d0887"
             ],
             [
              0.1111111111111111,
              "#46039f"
             ],
             [
              0.2222222222222222,
              "#7201a8"
             ],
             [
              0.3333333333333333,
              "#9c179e"
             ],
             [
              0.4444444444444444,
              "#bd3786"
             ],
             [
              0.5555555555555556,
              "#d8576b"
             ],
             [
              0.6666666666666666,
              "#ed7953"
             ],
             [
              0.7777777777777778,
              "#fb9f3a"
             ],
             [
              0.8888888888888888,
              "#fdca26"
             ],
             [
              1,
              "#f0f921"
             ]
            ],
            "type": "surface"
           }
          ],
          "table": [
           {
            "cells": {
             "fill": {
              "color": "#EBF0F8"
             },
             "line": {
              "color": "white"
             }
            },
            "header": {
             "fill": {
              "color": "#C8D4E3"
             },
             "line": {
              "color": "white"
             }
            },
            "type": "table"
           }
          ]
         },
         "layout": {
          "annotationdefaults": {
           "arrowcolor": "#2a3f5f",
           "arrowhead": 0,
           "arrowwidth": 1
          },
          "autotypenumbers": "strict",
          "coloraxis": {
           "colorbar": {
            "outlinewidth": 0,
            "ticks": ""
           }
          },
          "colorscale": {
           "diverging": [
            [
             0,
             "#8e0152"
            ],
            [
             0.1,
             "#c51b7d"
            ],
            [
             0.2,
             "#de77ae"
            ],
            [
             0.3,
             "#f1b6da"
            ],
            [
             0.4,
             "#fde0ef"
            ],
            [
             0.5,
             "#f7f7f7"
            ],
            [
             0.6,
             "#e6f5d0"
            ],
            [
             0.7,
             "#b8e186"
            ],
            [
             0.8,
             "#7fbc41"
            ],
            [
             0.9,
             "#4d9221"
            ],
            [
             1,
             "#276419"
            ]
           ],
           "sequential": [
            [
             0,
             "#0d0887"
            ],
            [
             0.1111111111111111,
             "#46039f"
            ],
            [
             0.2222222222222222,
             "#7201a8"
            ],
            [
             0.3333333333333333,
             "#9c179e"
            ],
            [
             0.4444444444444444,
             "#bd3786"
            ],
            [
             0.5555555555555556,
             "#d8576b"
            ],
            [
             0.6666666666666666,
             "#ed7953"
            ],
            [
             0.7777777777777778,
             "#fb9f3a"
            ],
            [
             0.8888888888888888,
             "#fdca26"
            ],
            [
             1,
             "#f0f921"
            ]
           ],
           "sequentialminus": [
            [
             0,
             "#0d0887"
            ],
            [
             0.1111111111111111,
             "#46039f"
            ],
            [
             0.2222222222222222,
             "#7201a8"
            ],
            [
             0.3333333333333333,
             "#9c179e"
            ],
            [
             0.4444444444444444,
             "#bd3786"
            ],
            [
             0.5555555555555556,
             "#d8576b"
            ],
            [
             0.6666666666666666,
             "#ed7953"
            ],
            [
             0.7777777777777778,
             "#fb9f3a"
            ],
            [
             0.8888888888888888,
             "#fdca26"
            ],
            [
             1,
             "#f0f921"
            ]
           ]
          },
          "colorway": [
           "#636efa",
           "#EF553B",
           "#00cc96",
           "#ab63fa",
           "#FFA15A",
           "#19d3f3",
           "#FF6692",
           "#B6E880",
           "#FF97FF",
           "#FECB52"
          ],
          "font": {
           "color": "#2a3f5f"
          },
          "geo": {
           "bgcolor": "white",
           "lakecolor": "white",
           "landcolor": "#E5ECF6",
           "showlakes": true,
           "showland": true,
           "subunitcolor": "white"
          },
          "hoverlabel": {
           "align": "left"
          },
          "hovermode": "closest",
          "mapbox": {
           "style": "light"
          },
          "paper_bgcolor": "white",
          "plot_bgcolor": "#E5ECF6",
          "polar": {
           "angularaxis": {
            "gridcolor": "white",
            "linecolor": "white",
            "ticks": ""
           },
           "bgcolor": "#E5ECF6",
           "radialaxis": {
            "gridcolor": "white",
            "linecolor": "white",
            "ticks": ""
           }
          },
          "scene": {
           "xaxis": {
            "backgroundcolor": "#E5ECF6",
            "gridcolor": "white",
            "gridwidth": 2,
            "linecolor": "white",
            "showbackground": true,
            "ticks": "",
            "zerolinecolor": "white"
           },
           "yaxis": {
            "backgroundcolor": "#E5ECF6",
            "gridcolor": "white",
            "gridwidth": 2,
            "linecolor": "white",
            "showbackground": true,
            "ticks": "",
            "zerolinecolor": "white"
           },
           "zaxis": {
            "backgroundcolor": "#E5ECF6",
            "gridcolor": "white",
            "gridwidth": 2,
            "linecolor": "white",
            "showbackground": true,
            "ticks": "",
            "zerolinecolor": "white"
           }
          },
          "shapedefaults": {
           "line": {
            "color": "#2a3f5f"
           }
          },
          "ternary": {
           "aaxis": {
            "gridcolor": "white",
            "linecolor": "white",
            "ticks": ""
           },
           "baxis": {
            "gridcolor": "white",
            "linecolor": "white",
            "ticks": ""
           },
           "bgcolor": "#E5ECF6",
           "caxis": {
            "gridcolor": "white",
            "linecolor": "white",
            "ticks": ""
           }
          },
          "title": {
           "x": 0.05
          },
          "xaxis": {
           "automargin": true,
           "gridcolor": "white",
           "linecolor": "white",
           "ticks": "",
           "title": {
            "standoff": 15
           },
           "zerolinecolor": "white",
           "zerolinewidth": 2
          },
          "yaxis": {
           "automargin": true,
           "gridcolor": "white",
           "linecolor": "white",
           "ticks": "",
           "title": {
            "standoff": 15
           },
           "zerolinecolor": "white",
           "zerolinewidth": 2
          }
         }
        },
        "updatemenus": [
         {
          "buttons": [
           {
            "args": [
             {
              "type": "scatter",
              "x": [
               [
                "2023-01-01T00:00:00+00:00",
                "2023-01-08T00:00:00+00:00",
                "2023-01-15T00:00:00+00:00",
                "2023-01-22T00:00:00+00:00",
                "2023-01-29T00:00:00+00:00",
                "2023-02-05T00:00:00+00:00",
                "2023-02-12T00:00:00+00:00",
                "2023-02-19T00:00:00+00:00",
                "2023-02-26T00:00:00+00:00",
                "2023-03-05T00:00:00+00:00",
                "2023-03-12T00:00:00+00:00",
                "2023-03-19T00:00:00+00:00",
                "2023-03-26T00:00:00+00:00",
                "2023-04-02T00:00:00+00:00",
                "2023-04-09T00:00:00+00:00",
                "2023-04-16T00:00:00+00:00",
                "2023-04-23T00:00:00+00:00",
                "2023-04-30T00:00:00+00:00",
                "2023-05-07T00:00:00+00:00",
                "2023-05-14T00:00:00+00:00",
                "2023-05-21T00:00:00+00:00",
                "2023-05-28T00:00:00+00:00",
                "2023-06-04T00:00:00+00:00",
                "2023-06-11T00:00:00+00:00",
                "2023-06-18T00:00:00+00:00",
                "2023-06-25T00:00:00+00:00",
                "2023-07-02T00:00:00+00:00",
                "2023-07-09T00:00:00+00:00",
                "2023-07-16T00:00:00+00:00",
                "2023-07-23T00:00:00+00:00",
                "2023-07-30T00:00:00+00:00",
                "2023-08-06T00:00:00+00:00",
                "2023-08-13T00:00:00+00:00",
                "2023-08-20T00:00:00+00:00",
                "2023-08-27T00:00:00+00:00",
                "2023-09-03T00:00:00+00:00",
                "2023-09-10T00:00:00+00:00",
                "2023-09-17T00:00:00+00:00",
                "2023-09-24T00:00:00+00:00",
                "2023-10-01T00:00:00+00:00",
                "2023-10-08T00:00:00+00:00",
                "2023-10-15T00:00:00+00:00",
                "2023-10-22T00:00:00+00:00",
                "2023-10-29T00:00:00+00:00",
                "2023-11-05T00:00:00+00:00",
                "2023-11-12T00:00:00+00:00",
                "2023-11-19T00:00:00+00:00",
                "2023-11-26T00:00:00+00:00",
                "2023-12-03T00:00:00+00:00",
                "2023-12-10T00:00:00+00:00",
                "2023-12-17T00:00:00+00:00",
                "2023-12-24T00:00:00+00:00",
                "2023-12-31T00:00:00+00:00",
                "2024-01-07T00:00:00+00:00",
                "2024-01-14T00:00:00+00:00",
                "2024-01-21T00:00:00+00:00"
               ]
              ],
              "y": [
               [
                4,
                8,
                13,
                11,
                18,
                17,
                21,
                16,
                12,
                17,
                16,
                12,
                18,
                10,
                25,
                13,
                14,
                12,
                7,
                15,
                12,
                15,
                20,
                11,
                16,
                16,
                12,
                13,
                19,
                18,
                34,
                16,
                23,
                18,
                20,
                13,
                13,
                13,
                12,
                10,
                8,
                10,
                27,
                12,
                4,
                8,
                9,
                7,
                20,
                5,
                14,
                8,
                7,
                7,
                10,
                6
               ]
              ]
             },
             [
              0
             ]
            ],
            "label": "precinct 1",
            "method": "restyle",
            "visible": true
           },
           {
            "args": [
             {
              "type": "scatter",
              "x": [
               [
                "2023-01-01T00:00:00+00:00",
                "2023-01-08T00:00:00+00:00",
                "2023-01-15T00:00:00+00:00",
                "2023-01-22T00:00:00+00:00",
                "2023-01-29T00:00:00+00:00",
                "2023-02-05T00:00:00+00:00",
                "2023-02-12T00:00:00+00:00",
                "2023-02-19T00:00:00+00:00",
                "2023-02-26T00:00:00+00:00",
                "2023-03-05T00:00:00+00:00",
                "2023-03-12T00:00:00+00:00",
                "2023-03-19T00:00:00+00:00",
                "2023-03-26T00:00:00+00:00",
                "2023-04-02T00:00:00+00:00",
                "2023-04-09T00:00:00+00:00",
                "2023-04-16T00:00:00+00:00",
                "2023-04-23T00:00:00+00:00",
                "2023-04-30T00:00:00+00:00",
                "2023-05-07T00:00:00+00:00",
                "2023-05-14T00:00:00+00:00",
                "2023-05-21T00:00:00+00:00",
                "2023-05-28T00:00:00+00:00",
                "2023-06-04T00:00:00+00:00",
                "2023-06-11T00:00:00+00:00",
                "2023-06-18T00:00:00+00:00",
                "2023-06-25T00:00:00+00:00",
                "2023-07-02T00:00:00+00:00",
                "2023-07-09T00:00:00+00:00",
                "2023-07-16T00:00:00+00:00",
                "2023-07-23T00:00:00+00:00",
                "2023-07-30T00:00:00+00:00",
                "2023-08-06T00:00:00+00:00",
                "2023-08-13T00:00:00+00:00",
                "2023-08-20T00:00:00+00:00",
                "2023-08-27T00:00:00+00:00",
                "2023-09-03T00:00:00+00:00",
                "2023-09-10T00:00:00+00:00",
                "2023-09-17T00:00:00+00:00",
                "2023-09-24T00:00:00+00:00",
                "2023-10-01T00:00:00+00:00",
                "2023-10-08T00:00:00+00:00",
                "2023-10-15T00:00:00+00:00",
                "2023-10-22T00:00:00+00:00",
                "2023-10-29T00:00:00+00:00",
                "2023-11-05T00:00:00+00:00",
                "2023-11-12T00:00:00+00:00",
                "2023-11-19T00:00:00+00:00",
                "2023-11-26T00:00:00+00:00",
                "2023-12-03T00:00:00+00:00",
                "2023-12-10T00:00:00+00:00",
                "2023-12-17T00:00:00+00:00",
                "2023-12-24T00:00:00+00:00",
                "2023-12-31T00:00:00+00:00",
                "2024-01-07T00:00:00+00:00",
                "2024-01-14T00:00:00+00:00",
                "2024-01-21T00:00:00+00:00"
               ]
              ],
              "y": [
               [
                2,
                19,
                19,
                22,
                16,
                27,
                29,
                24,
                21,
                37,
                25,
                47,
                46,
                42,
                41,
                18,
                24,
                21,
                31,
                28,
                20,
                25,
                18,
                7,
                11,
                14,
                10,
                15,
                25,
                20,
                16,
                20,
                48,
                33,
                30,
                18,
                16,
                18,
                17,
                6,
                17,
                16,
                26,
                36,
                29,
                24,
                31,
                8,
                29,
                22,
                22,
                16,
                19,
                26,
                18,
                10
               ]
              ]
             },
             [
              0
             ]
            ],
            "label": "precinct 2",
            "method": "restyle",
            "visible": true
           },
           {
            "args": [
             {
              "type": "scatter",
              "x": [
               [
                "2023-01-01T00:00:00+00:00",
                "2023-01-08T00:00:00+00:00",
                "2023-01-15T00:00:00+00:00",
                "2023-01-22T00:00:00+00:00",
                "2023-01-29T00:00:00+00:00",
                "2023-02-05T00:00:00+00:00",
                "2023-02-12T00:00:00+00:00",
                "2023-02-19T00:00:00+00:00",
                "2023-02-26T00:00:00+00:00",
                "2023-03-05T00:00:00+00:00",
                "2023-03-12T00:00:00+00:00",
                "2023-03-19T00:00:00+00:00",
                "2023-03-26T00:00:00+00:00",
                "2023-04-02T00:00:00+00:00",
                "2023-04-09T00:00:00+00:00",
                "2023-04-16T00:00:00+00:00",
                "2023-04-23T00:00:00+00:00",
                "2023-04-30T00:00:00+00:00",
                "2023-05-07T00:00:00+00:00",
                "2023-05-14T00:00:00+00:00",
                "2023-05-21T00:00:00+00:00",
                "2023-05-28T00:00:00+00:00",
                "2023-06-04T00:00:00+00:00",
                "2023-06-11T00:00:00+00:00",
                "2023-06-18T00:00:00+00:00",
                "2023-06-25T00:00:00+00:00",
                "2023-07-02T00:00:00+00:00",
                "2023-07-09T00:00:00+00:00",
                "2023-07-16T00:00:00+00:00",
                "2023-07-23T00:00:00+00:00",
                "2023-07-30T00:00:00+00:00",
                "2023-08-06T00:00:00+00:00",
                "2023-08-13T00:00:00+00:00",
                "2023-08-20T00:00:00+00:00",
                "2023-08-27T00:00:00+00:00",
                "2023-09-03T00:00:00+00:00",
                "2023-09-10T00:00:00+00:00",
                "2023-09-17T00:00:00+00:00",
                "2023-09-24T00:00:00+00:00",
                "2023-10-01T00:00:00+00:00",
                "2023-10-08T00:00:00+00:00",
                "2023-10-15T00:00:00+00:00",
                "2023-10-22T00:00:00+00:00",
                "2023-10-29T00:00:00+00:00",
                "2023-11-05T00:00:00+00:00",
                "2023-11-12T00:00:00+00:00",
                "2023-11-19T00:00:00+00:00",
                "2023-11-26T00:00:00+00:00",
                "2023-12-03T00:00:00+00:00",
                "2023-12-10T00:00:00+00:00",
                "2023-12-17T00:00:00+00:00",
                "2023-12-24T00:00:00+00:00",
                "2023-12-31T00:00:00+00:00",
                "2024-01-07T00:00:00+00:00",
                "2024-01-14T00:00:00+00:00",
                "2024-01-21T00:00:00+00:00"
               ]
              ],
              "y": [
               [
                5,
                35,
                45,
                51,
                46,
                46,
                69,
                95,
                60,
                66,
                50,
                64,
                52,
                50,
                75,
                45,
                61,
                37,
                50,
                57,
                34,
                49,
                33,
                46,
                49,
                40,
                35,
                35,
                32,
                49,
                33,
                38,
                37,
                42,
                38,
                40,
                39,
                39,
                29,
                35,
                25,
                34,
                34,
                47,
                42,
                29,
                39,
                41,
                37,
                30,
                37,
                44,
                32,
                33,
                43,
                16
               ]
              ]
             },
             [
              0
             ]
            ],
            "label": "precinct 3",
            "method": "restyle",
            "visible": true
           },
           {
            "args": [
             {
              "type": "scatter",
              "x": [
               [
                "2023-01-01T00:00:00+00:00",
                "2023-01-08T00:00:00+00:00",
                "2023-01-15T00:00:00+00:00",
                "2023-01-22T00:00:00+00:00",
                "2023-01-29T00:00:00+00:00",
                "2023-02-05T00:00:00+00:00",
                "2023-02-12T00:00:00+00:00",
                "2023-02-19T00:00:00+00:00",
                "2023-02-26T00:00:00+00:00",
                "2023-03-05T00:00:00+00:00",
                "2023-03-12T00:00:00+00:00",
                "2023-03-19T00:00:00+00:00",
                "2023-03-26T00:00:00+00:00",
                "2023-04-02T00:00:00+00:00",
                "2023-04-09T00:00:00+00:00",
                "2023-04-16T00:00:00+00:00",
                "2023-04-23T00:00:00+00:00",
                "2023-04-30T00:00:00+00:00",
                "2023-05-07T00:00:00+00:00",
                "2023-05-14T00:00:00+00:00",
                "2023-05-21T00:00:00+00:00",
                "2023-05-28T00:00:00+00:00",
                "2023-06-04T00:00:00+00:00",
                "2023-06-11T00:00:00+00:00",
                "2023-06-18T00:00:00+00:00",
                "2023-06-25T00:00:00+00:00",
                "2023-07-02T00:00:00+00:00",
                "2023-07-09T00:00:00+00:00",
                "2023-07-16T00:00:00+00:00",
                "2023-07-23T00:00:00+00:00",
                "2023-07-30T00:00:00+00:00",
                "2023-08-06T00:00:00+00:00",
                "2023-08-13T00:00:00+00:00",
                "2023-08-20T00:00:00+00:00",
                "2023-08-27T00:00:00+00:00",
                "2023-09-03T00:00:00+00:00",
                "2023-09-10T00:00:00+00:00",
                "2023-09-17T00:00:00+00:00",
                "2023-09-24T00:00:00+00:00",
                "2023-10-01T00:00:00+00:00",
                "2023-10-08T00:00:00+00:00",
                "2023-10-15T00:00:00+00:00",
                "2023-10-22T00:00:00+00:00",
                "2023-10-29T00:00:00+00:00",
                "2023-11-05T00:00:00+00:00",
                "2023-11-12T00:00:00+00:00",
                "2023-11-19T00:00:00+00:00",
                "2023-11-26T00:00:00+00:00",
                "2023-12-03T00:00:00+00:00",
                "2023-12-10T00:00:00+00:00",
                "2023-12-17T00:00:00+00:00",
                "2023-12-24T00:00:00+00:00",
                "2023-12-31T00:00:00+00:00",
                "2024-01-07T00:00:00+00:00",
                "2024-01-14T00:00:00+00:00",
                "2024-01-21T00:00:00+00:00"
               ]
              ],
              "y": [
               [
                5,
                28,
                40,
                41,
                20,
                29,
                31,
                27,
                25,
                33,
                31,
                43,
                34,
                42,
                33,
                27,
                27,
                35,
                40,
                28,
                27,
                20,
                28,
                8,
                15,
                24,
                26,
                21,
                17,
                27,
                24,
                16,
                24,
                26,
                21,
                16,
                15,
                11,
                17,
                14,
                21,
                25,
                28,
                21,
                20,
                23,
                28,
                26,
                26,
                25,
                12,
                21,
                24,
                20,
                16,
                6
               ]
              ]
             },
             [
              0
             ]
            ],
            "label": "precinct 4",
            "method": "restyle",
            "visible": true
           },
           {
            "args": [
             {
              "type": "scatter",
              "x": [
               [
                "2023-01-01T00:00:00+00:00",
                "2023-01-08T00:00:00+00:00",
                "2023-01-15T00:00:00+00:00",
                "2023-01-22T00:00:00+00:00",
                "2023-01-29T00:00:00+00:00",
                "2023-02-05T00:00:00+00:00",
                "2023-02-12T00:00:00+00:00",
                "2023-02-19T00:00:00+00:00",
                "2023-02-26T00:00:00+00:00",
                "2023-03-05T00:00:00+00:00",
                "2023-03-12T00:00:00+00:00",
                "2023-03-19T00:00:00+00:00",
                "2023-03-26T00:00:00+00:00",
                "2023-04-02T00:00:00+00:00",
                "2023-04-09T00:00:00+00:00",
                "2023-04-16T00:00:00+00:00",
                "2023-04-23T00:00:00+00:00",
                "2023-04-30T00:00:00+00:00",
                "2023-05-07T00:00:00+00:00",
                "2023-05-14T00:00:00+00:00",
                "2023-05-21T00:00:00+00:00",
                "2023-05-28T00:00:00+00:00",
                "2023-06-04T00:00:00+00:00",
                "2023-06-11T00:00:00+00:00",
                "2023-06-18T00:00:00+00:00",
                "2023-06-25T00:00:00+00:00",
                "2023-07-02T00:00:00+00:00",
                "2023-07-09T00:00:00+00:00",
                "2023-07-16T00:00:00+00:00",
                "2023-07-23T00:00:00+00:00",
                "2023-07-30T00:00:00+00:00",
                "2023-08-06T00:00:00+00:00",
                "2023-08-13T00:00:00+00:00",
                "2023-08-20T00:00:00+00:00",
                "2023-08-27T00:00:00+00:00",
                "2023-09-03T00:00:00+00:00",
                "2023-09-10T00:00:00+00:00",
                "2023-09-17T00:00:00+00:00",
                "2023-09-24T00:00:00+00:00",
                "2023-10-01T00:00:00+00:00",
                "2023-10-08T00:00:00+00:00",
                "2023-10-15T00:00:00+00:00",
                "2023-10-22T00:00:00+00:00",
                "2023-10-29T00:00:00+00:00",
                "2023-11-05T00:00:00+00:00",
                "2023-11-12T00:00:00+00:00",
                "2023-11-19T00:00:00+00:00",
                "2023-11-26T00:00:00+00:00",
                "2023-12-03T00:00:00+00:00",
                "2023-12-10T00:00:00+00:00",
                "2023-12-17T00:00:00+00:00",
                "2023-12-24T00:00:00+00:00",
                "2023-12-31T00:00:00+00:00",
                "2024-01-07T00:00:00+00:00",
                "2024-01-14T00:00:00+00:00",
                "2024-01-21T00:00:00+00:00"
               ]
              ],
              "y": [
               [
                6,
                40,
                35,
                64,
                44,
                57,
                64,
                83,
                42,
                46,
                38,
                54,
                50,
                47,
                88,
                49,
                50,
                61,
                51,
                49,
                32,
                35,
                26,
                36,
                23,
                32,
                30,
                28,
                76,
                34,
                40,
                24,
                59,
                35,
                32,
                50,
                35,
                22,
                31,
                19,
                31,
                23,
                33,
                34,
                41,
                22,
                22,
                28,
                26,
                30,
                27,
                43,
                33,
                33,
                30,
                27
               ]
              ]
             },
             [
              0
             ]
            ],
            "label": "precinct 5",
            "method": "restyle",
            "visible": true
           }
          ],
          "direction": "down",
          "showactive": true
         }
        ]
       }
      },
      "text/html": [
       "<div>                            <div id=\"11826cc5-b105-432a-907b-2f28be96fdeb\" class=\"plotly-graph-div\" style=\"height:525px; width:100%;\"></div>            <script type=\"text/javascript\">                require([\"plotly\"], function(Plotly) {                    window.PLOTLYENV=window.PLOTLYENV || {};                                    if (document.getElementById(\"11826cc5-b105-432a-907b-2f28be96fdeb\")) {                    Plotly.newPlot(                        \"11826cc5-b105-432a-907b-2f28be96fdeb\",                        [{\"visible\":true,\"x\":[\"2023-01-01T00:00:00+00:00\",\"2023-01-08T00:00:00+00:00\",\"2023-01-15T00:00:00+00:00\",\"2023-01-22T00:00:00+00:00\",\"2023-01-29T00:00:00+00:00\",\"2023-02-05T00:00:00+00:00\",\"2023-02-12T00:00:00+00:00\",\"2023-02-19T00:00:00+00:00\",\"2023-02-26T00:00:00+00:00\",\"2023-03-05T00:00:00+00:00\",\"2023-03-12T00:00:00+00:00\",\"2023-03-19T00:00:00+00:00\",\"2023-03-26T00:00:00+00:00\",\"2023-04-02T00:00:00+00:00\",\"2023-04-09T00:00:00+00:00\",\"2023-04-16T00:00:00+00:00\",\"2023-04-23T00:00:00+00:00\",\"2023-04-30T00:00:00+00:00\",\"2023-05-07T00:00:00+00:00\",\"2023-05-14T00:00:00+00:00\",\"2023-05-21T00:00:00+00:00\",\"2023-05-28T00:00:00+00:00\",\"2023-06-04T00:00:00+00:00\",\"2023-06-11T00:00:00+00:00\",\"2023-06-18T00:00:00+00:00\",\"2023-06-25T00:00:00+00:00\",\"2023-07-02T00:00:00+00:00\",\"2023-07-09T00:00:00+00:00\",\"2023-07-16T00:00:00+00:00\",\"2023-07-23T00:00:00+00:00\",\"2023-07-30T00:00:00+00:00\",\"2023-08-06T00:00:00+00:00\",\"2023-08-13T00:00:00+00:00\",\"2023-08-20T00:00:00+00:00\",\"2023-08-27T00:00:00+00:00\",\"2023-09-03T00:00:00+00:00\",\"2023-09-10T00:00:00+00:00\",\"2023-09-17T00:00:00+00:00\",\"2023-09-24T00:00:00+00:00\",\"2023-10-01T00:00:00+00:00\",\"2023-10-08T00:00:00+00:00\",\"2023-10-15T00:00:00+00:00\",\"2023-10-22T00:00:00+00:00\",\"2023-10-29T00:00:00+00:00\",\"2023-11-05T00:00:00+00:00\",\"2023-11-12T00:00:00+00:00\",\"2023-11-19T00:00:00+00:00\",\"2023-11-26T00:00:00+00:00\",\"2023-12-03T00:00:00+00:00\",\"2023-12-10T00:00:00+00:00\",\"2023-12-17T00:00:00+00:00\",\"2023-12-24T00:00:00+00:00\",\"2023-12-31T00:00:00+00:00\",\"2024-01-07T00:00:00+00:00\",\"2024-01-14T00:00:00+00:00\",\"2024-01-21T00:00:00+00:00\"],\"y\":[4,8,13,11,18,17,21,16,12,17,16,12,18,10,25,13,14,12,7,15,12,15,20,11,16,16,12,13,19,18,34,16,23,18,20,13,13,13,12,10,8,10,27,12,4,8,9,7,20,5,14,8,7,7,10,6],\"type\":\"scatter\"}],                        {\"template\":{\"data\":{\"histogram2dcontour\":[{\"type\":\"histogram2dcontour\",\"colorbar\":{\"outlinewidth\":0,\"ticks\":\"\"},\"colorscale\":[[0.0,\"#0d0887\"],[0.1111111111111111,\"#46039f\"],[0.2222222222222222,\"#7201a8\"],[0.3333333333333333,\"#9c179e\"],[0.4444444444444444,\"#bd3786\"],[0.5555555555555556,\"#d8576b\"],[0.6666666666666666,\"#ed7953\"],[0.7777777777777778,\"#fb9f3a\"],[0.8888888888888888,\"#fdca26\"],[1.0,\"#f0f921\"]]}],\"choropleth\":[{\"type\":\"choropleth\",\"colorbar\":{\"outlinewidth\":0,\"ticks\":\"\"}}],\"histogram2d\":[{\"type\":\"histogram2d\",\"colorbar\":{\"outlinewidth\":0,\"ticks\":\"\"},\"colorscale\":[[0.0,\"#0d0887\"],[0.1111111111111111,\"#46039f\"],[0.2222222222222222,\"#7201a8\"],[0.3333333333333333,\"#9c179e\"],[0.4444444444444444,\"#bd3786\"],[0.5555555555555556,\"#d8576b\"],[0.6666666666666666,\"#ed7953\"],[0.7777777777777778,\"#fb9f3a\"],[0.8888888888888888,\"#fdca26\"],[1.0,\"#f0f921\"]]}],\"heatmap\":[{\"type\":\"heatmap\",\"colorbar\":{\"outlinewidth\":0,\"ticks\":\"\"},\"colorscale\":[[0.0,\"#0d0887\"],[0.1111111111111111,\"#46039f\"],[0.2222222222222222,\"#7201a8\"],[0.3333333333333333,\"#9c179e\"],[0.4444444444444444,\"#bd3786\"],[0.5555555555555556,\"#d8576b\"],[0.6666666666666666,\"#ed7953\"],[0.7777777777777778,\"#fb9f3a\"],[0.8888888888888888,\"#fdca26\"],[1.0,\"#f0f921\"]]}],\"heatmapgl\":[{\"type\":\"heatmapgl\",\"colorbar\":{\"outlinewidth\":0,\"ticks\":\"\"},\"colorscale\":[[0.0,\"#0d0887\"],[0.1111111111111111,\"#46039f\"],[0.2222222222222222,\"#7201a8\"],[0.3333333333333333,\"#9c179e\"],[0.4444444444444444,\"#bd3786\"],[0.5555555555555556,\"#d8576b\"],[0.6666666666666666,\"#ed7953\"],[0.7777777777777778,\"#fb9f3a\"],[0.8888888888888888,\"#fdca26\"],[1.0,\"#f0f921\"]]}],\"contourcarpet\":[{\"type\":\"contourcarpet\",\"colorbar\":{\"outlinewidth\":0,\"ticks\":\"\"}}],\"contour\":[{\"type\":\"contour\",\"colorbar\":{\"outlinewidth\":0,\"ticks\":\"\"},\"colorscale\":[[0.0,\"#0d0887\"],[0.1111111111111111,\"#46039f\"],[0.2222222222222222,\"#7201a8\"],[0.3333333333333333,\"#9c179e\"],[0.4444444444444444,\"#bd3786\"],[0.5555555555555556,\"#d8576b\"],[0.6666666666666666,\"#ed7953\"],[0.7777777777777778,\"#fb9f3a\"],[0.8888888888888888,\"#fdca26\"],[1.0,\"#f0f921\"]]}],\"surface\":[{\"type\":\"surface\",\"colorbar\":{\"outlinewidth\":0,\"ticks\":\"\"},\"colorscale\":[[0.0,\"#0d0887\"],[0.1111111111111111,\"#46039f\"],[0.2222222222222222,\"#7201a8\"],[0.3333333333333333,\"#9c179e\"],[0.4444444444444444,\"#bd3786\"],[0.5555555555555556,\"#d8576b\"],[0.6666666666666666,\"#ed7953\"],[0.7777777777777778,\"#fb9f3a\"],[0.8888888888888888,\"#fdca26\"],[1.0,\"#f0f921\"]]}],\"mesh3d\":[{\"type\":\"mesh3d\",\"colorbar\":{\"outlinewidth\":0,\"ticks\":\"\"}}],\"scatter\":[{\"fillpattern\":{\"fillmode\":\"overlay\",\"size\":10,\"solidity\":0.2},\"type\":\"scatter\"}],\"parcoords\":[{\"type\":\"parcoords\",\"line\":{\"colorbar\":{\"outlinewidth\":0,\"ticks\":\"\"}}}],\"scatterpolargl\":[{\"type\":\"scatterpolargl\",\"marker\":{\"colorbar\":{\"outlinewidth\":0,\"ticks\":\"\"}}}],\"bar\":[{\"error_x\":{\"color\":\"#2a3f5f\"},\"error_y\":{\"color\":\"#2a3f5f\"},\"marker\":{\"line\":{\"color\":\"#E5ECF6\",\"width\":0.5},\"pattern\":{\"fillmode\":\"overlay\",\"size\":10,\"solidity\":0.2}},\"type\":\"bar\"}],\"scattergeo\":[{\"type\":\"scattergeo\",\"marker\":{\"colorbar\":{\"outlinewidth\":0,\"ticks\":\"\"}}}],\"scatterpolar\":[{\"type\":\"scatterpolar\",\"marker\":{\"colorbar\":{\"outlinewidth\":0,\"ticks\":\"\"}}}],\"histogram\":[{\"marker\":{\"pattern\":{\"fillmode\":\"overlay\",\"size\":10,\"solidity\":0.2}},\"type\":\"histogram\"}],\"scattergl\":[{\"type\":\"scattergl\",\"marker\":{\"colorbar\":{\"outlinewidth\":0,\"ticks\":\"\"}}}],\"scatter3d\":[{\"type\":\"scatter3d\",\"line\":{\"colorbar\":{\"outlinewidth\":0,\"ticks\":\"\"}},\"marker\":{\"colorbar\":{\"outlinewidth\":0,\"ticks\":\"\"}}}],\"scattermapbox\":[{\"type\":\"scattermapbox\",\"marker\":{\"colorbar\":{\"outlinewidth\":0,\"ticks\":\"\"}}}],\"scatterternary\":[{\"type\":\"scatterternary\",\"marker\":{\"colorbar\":{\"outlinewidth\":0,\"ticks\":\"\"}}}],\"scattercarpet\":[{\"type\":\"scattercarpet\",\"marker\":{\"colorbar\":{\"outlinewidth\":0,\"ticks\":\"\"}}}],\"carpet\":[{\"aaxis\":{\"endlinecolor\":\"#2a3f5f\",\"gridcolor\":\"white\",\"linecolor\":\"white\",\"minorgridcolor\":\"white\",\"startlinecolor\":\"#2a3f5f\"},\"baxis\":{\"endlinecolor\":\"#2a3f5f\",\"gridcolor\":\"white\",\"linecolor\":\"white\",\"minorgridcolor\":\"white\",\"startlinecolor\":\"#2a3f5f\"},\"type\":\"carpet\"}],\"table\":[{\"cells\":{\"fill\":{\"color\":\"#EBF0F8\"},\"line\":{\"color\":\"white\"}},\"header\":{\"fill\":{\"color\":\"#C8D4E3\"},\"line\":{\"color\":\"white\"}},\"type\":\"table\"}],\"barpolar\":[{\"marker\":{\"line\":{\"color\":\"#E5ECF6\",\"width\":0.5},\"pattern\":{\"fillmode\":\"overlay\",\"size\":10,\"solidity\":0.2}},\"type\":\"barpolar\"}],\"pie\":[{\"automargin\":true,\"type\":\"pie\"}]},\"layout\":{\"autotypenumbers\":\"strict\",\"colorway\":[\"#636efa\",\"#EF553B\",\"#00cc96\",\"#ab63fa\",\"#FFA15A\",\"#19d3f3\",\"#FF6692\",\"#B6E880\",\"#FF97FF\",\"#FECB52\"],\"font\":{\"color\":\"#2a3f5f\"},\"hovermode\":\"closest\",\"hoverlabel\":{\"align\":\"left\"},\"paper_bgcolor\":\"white\",\"plot_bgcolor\":\"#E5ECF6\",\"polar\":{\"bgcolor\":\"#E5ECF6\",\"angularaxis\":{\"gridcolor\":\"white\",\"linecolor\":\"white\",\"ticks\":\"\"},\"radialaxis\":{\"gridcolor\":\"white\",\"linecolor\":\"white\",\"ticks\":\"\"}},\"ternary\":{\"bgcolor\":\"#E5ECF6\",\"aaxis\":{\"gridcolor\":\"white\",\"linecolor\":\"white\",\"ticks\":\"\"},\"baxis\":{\"gridcolor\":\"white\",\"linecolor\":\"white\",\"ticks\":\"\"},\"caxis\":{\"gridcolor\":\"white\",\"linecolor\":\"white\",\"ticks\":\"\"}},\"coloraxis\":{\"colorbar\":{\"outlinewidth\":0,\"ticks\":\"\"}},\"colorscale\":{\"sequential\":[[0.0,\"#0d0887\"],[0.1111111111111111,\"#46039f\"],[0.2222222222222222,\"#7201a8\"],[0.3333333333333333,\"#9c179e\"],[0.4444444444444444,\"#bd3786\"],[0.5555555555555556,\"#d8576b\"],[0.6666666666666666,\"#ed7953\"],[0.7777777777777778,\"#fb9f3a\"],[0.8888888888888888,\"#fdca26\"],[1.0,\"#f0f921\"]],\"sequentialminus\":[[0.0,\"#0d0887\"],[0.1111111111111111,\"#46039f\"],[0.2222222222222222,\"#7201a8\"],[0.3333333333333333,\"#9c179e\"],[0.4444444444444444,\"#bd3786\"],[0.5555555555555556,\"#d8576b\"],[0.6666666666666666,\"#ed7953\"],[0.7777777777777778,\"#fb9f3a\"],[0.8888888888888888,\"#fdca26\"],[1.0,\"#f0f921\"]],\"diverging\":[[0,\"#8e0152\"],[0.1,\"#c51b7d\"],[0.2,\"#de77ae\"],[0.3,\"#f1b6da\"],[0.4,\"#fde0ef\"],[0.5,\"#f7f7f7\"],[0.6,\"#e6f5d0\"],[0.7,\"#b8e186\"],[0.8,\"#7fbc41\"],[0.9,\"#4d9221\"],[1,\"#276419\"]]},\"xaxis\":{\"gridcolor\":\"white\",\"linecolor\":\"white\",\"ticks\":\"\",\"title\":{\"standoff\":15},\"zerolinecolor\":\"white\",\"automargin\":true,\"zerolinewidth\":2},\"yaxis\":{\"gridcolor\":\"white\",\"linecolor\":\"white\",\"ticks\":\"\",\"title\":{\"standoff\":15},\"zerolinecolor\":\"white\",\"automargin\":true,\"zerolinewidth\":2},\"scene\":{\"xaxis\":{\"backgroundcolor\":\"#E5ECF6\",\"gridcolor\":\"white\",\"linecolor\":\"white\",\"showbackground\":true,\"ticks\":\"\",\"zerolinecolor\":\"white\",\"gridwidth\":2},\"yaxis\":{\"backgroundcolor\":\"#E5ECF6\",\"gridcolor\":\"white\",\"linecolor\":\"white\",\"showbackground\":true,\"ticks\":\"\",\"zerolinecolor\":\"white\",\"gridwidth\":2},\"zaxis\":{\"backgroundcolor\":\"#E5ECF6\",\"gridcolor\":\"white\",\"linecolor\":\"white\",\"showbackground\":true,\"ticks\":\"\",\"zerolinecolor\":\"white\",\"gridwidth\":2}},\"shapedefaults\":{\"line\":{\"color\":\"#2a3f5f\"}},\"annotationdefaults\":{\"arrowcolor\":\"#2a3f5f\",\"arrowhead\":0,\"arrowwidth\":1},\"geo\":{\"bgcolor\":\"white\",\"landcolor\":\"#E5ECF6\",\"subunitcolor\":\"white\",\"showland\":true,\"showlakes\":true,\"lakecolor\":\"white\"},\"title\":{\"x\":0.05},\"mapbox\":{\"style\":\"light\"}}},\"showlegend\":false,\"updatemenus\":[{\"buttons\":[{\"args\":[{\"y\":[[4,8,13,11,18,17,21,16,12,17,16,12,18,10,25,13,14,12,7,15,12,15,20,11,16,16,12,13,19,18,34,16,23,18,20,13,13,13,12,10,8,10,27,12,4,8,9,7,20,5,14,8,7,7,10,6]],\"x\":[[\"2023-01-01T00:00:00+00:00\",\"2023-01-08T00:00:00+00:00\",\"2023-01-15T00:00:00+00:00\",\"2023-01-22T00:00:00+00:00\",\"2023-01-29T00:00:00+00:00\",\"2023-02-05T00:00:00+00:00\",\"2023-02-12T00:00:00+00:00\",\"2023-02-19T00:00:00+00:00\",\"2023-02-26T00:00:00+00:00\",\"2023-03-05T00:00:00+00:00\",\"2023-03-12T00:00:00+00:00\",\"2023-03-19T00:00:00+00:00\",\"2023-03-26T00:00:00+00:00\",\"2023-04-02T00:00:00+00:00\",\"2023-04-09T00:00:00+00:00\",\"2023-04-16T00:00:00+00:00\",\"2023-04-23T00:00:00+00:00\",\"2023-04-30T00:00:00+00:00\",\"2023-05-07T00:00:00+00:00\",\"2023-05-14T00:00:00+00:00\",\"2023-05-21T00:00:00+00:00\",\"2023-05-28T00:00:00+00:00\",\"2023-06-04T00:00:00+00:00\",\"2023-06-11T00:00:00+00:00\",\"2023-06-18T00:00:00+00:00\",\"2023-06-25T00:00:00+00:00\",\"2023-07-02T00:00:00+00:00\",\"2023-07-09T00:00:00+00:00\",\"2023-07-16T00:00:00+00:00\",\"2023-07-23T00:00:00+00:00\",\"2023-07-30T00:00:00+00:00\",\"2023-08-06T00:00:00+00:00\",\"2023-08-13T00:00:00+00:00\",\"2023-08-20T00:00:00+00:00\",\"2023-08-27T00:00:00+00:00\",\"2023-09-03T00:00:00+00:00\",\"2023-09-10T00:00:00+00:00\",\"2023-09-17T00:00:00+00:00\",\"2023-09-24T00:00:00+00:00\",\"2023-10-01T00:00:00+00:00\",\"2023-10-08T00:00:00+00:00\",\"2023-10-15T00:00:00+00:00\",\"2023-10-22T00:00:00+00:00\",\"2023-10-29T00:00:00+00:00\",\"2023-11-05T00:00:00+00:00\",\"2023-11-12T00:00:00+00:00\",\"2023-11-19T00:00:00+00:00\",\"2023-11-26T00:00:00+00:00\",\"2023-12-03T00:00:00+00:00\",\"2023-12-10T00:00:00+00:00\",\"2023-12-17T00:00:00+00:00\",\"2023-12-24T00:00:00+00:00\",\"2023-12-31T00:00:00+00:00\",\"2024-01-07T00:00:00+00:00\",\"2024-01-14T00:00:00+00:00\",\"2024-01-21T00:00:00+00:00\"]],\"type\":\"scatter\"},[0]],\"label\":\"precinct 1\",\"method\":\"restyle\",\"visible\":true},{\"args\":[{\"y\":[[2,19,19,22,16,27,29,24,21,37,25,47,46,42,41,18,24,21,31,28,20,25,18,7,11,14,10,15,25,20,16,20,48,33,30,18,16,18,17,6,17,16,26,36,29,24,31,8,29,22,22,16,19,26,18,10]],\"x\":[[\"2023-01-01T00:00:00+00:00\",\"2023-01-08T00:00:00+00:00\",\"2023-01-15T00:00:00+00:00\",\"2023-01-22T00:00:00+00:00\",\"2023-01-29T00:00:00+00:00\",\"2023-02-05T00:00:00+00:00\",\"2023-02-12T00:00:00+00:00\",\"2023-02-19T00:00:00+00:00\",\"2023-02-26T00:00:00+00:00\",\"2023-03-05T00:00:00+00:00\",\"2023-03-12T00:00:00+00:00\",\"2023-03-19T00:00:00+00:00\",\"2023-03-26T00:00:00+00:00\",\"2023-04-02T00:00:00+00:00\",\"2023-04-09T00:00:00+00:00\",\"2023-04-16T00:00:00+00:00\",\"2023-04-23T00:00:00+00:00\",\"2023-04-30T00:00:00+00:00\",\"2023-05-07T00:00:00+00:00\",\"2023-05-14T00:00:00+00:00\",\"2023-05-21T00:00:00+00:00\",\"2023-05-28T00:00:00+00:00\",\"2023-06-04T00:00:00+00:00\",\"2023-06-11T00:00:00+00:00\",\"2023-06-18T00:00:00+00:00\",\"2023-06-25T00:00:00+00:00\",\"2023-07-02T00:00:00+00:00\",\"2023-07-09T00:00:00+00:00\",\"2023-07-16T00:00:00+00:00\",\"2023-07-23T00:00:00+00:00\",\"2023-07-30T00:00:00+00:00\",\"2023-08-06T00:00:00+00:00\",\"2023-08-13T00:00:00+00:00\",\"2023-08-20T00:00:00+00:00\",\"2023-08-27T00:00:00+00:00\",\"2023-09-03T00:00:00+00:00\",\"2023-09-10T00:00:00+00:00\",\"2023-09-17T00:00:00+00:00\",\"2023-09-24T00:00:00+00:00\",\"2023-10-01T00:00:00+00:00\",\"2023-10-08T00:00:00+00:00\",\"2023-10-15T00:00:00+00:00\",\"2023-10-22T00:00:00+00:00\",\"2023-10-29T00:00:00+00:00\",\"2023-11-05T00:00:00+00:00\",\"2023-11-12T00:00:00+00:00\",\"2023-11-19T00:00:00+00:00\",\"2023-11-26T00:00:00+00:00\",\"2023-12-03T00:00:00+00:00\",\"2023-12-10T00:00:00+00:00\",\"2023-12-17T00:00:00+00:00\",\"2023-12-24T00:00:00+00:00\",\"2023-12-31T00:00:00+00:00\",\"2024-01-07T00:00:00+00:00\",\"2024-01-14T00:00:00+00:00\",\"2024-01-21T00:00:00+00:00\"]],\"type\":\"scatter\"},[0]],\"label\":\"precinct 2\",\"method\":\"restyle\",\"visible\":true},{\"args\":[{\"y\":[[5,35,45,51,46,46,69,95,60,66,50,64,52,50,75,45,61,37,50,57,34,49,33,46,49,40,35,35,32,49,33,38,37,42,38,40,39,39,29,35,25,34,34,47,42,29,39,41,37,30,37,44,32,33,43,16]],\"x\":[[\"2023-01-01T00:00:00+00:00\",\"2023-01-08T00:00:00+00:00\",\"2023-01-15T00:00:00+00:00\",\"2023-01-22T00:00:00+00:00\",\"2023-01-29T00:00:00+00:00\",\"2023-02-05T00:00:00+00:00\",\"2023-02-12T00:00:00+00:00\",\"2023-02-19T00:00:00+00:00\",\"2023-02-26T00:00:00+00:00\",\"2023-03-05T00:00:00+00:00\",\"2023-03-12T00:00:00+00:00\",\"2023-03-19T00:00:00+00:00\",\"2023-03-26T00:00:00+00:00\",\"2023-04-02T00:00:00+00:00\",\"2023-04-09T00:00:00+00:00\",\"2023-04-16T00:00:00+00:00\",\"2023-04-23T00:00:00+00:00\",\"2023-04-30T00:00:00+00:00\",\"2023-05-07T00:00:00+00:00\",\"2023-05-14T00:00:00+00:00\",\"2023-05-21T00:00:00+00:00\",\"2023-05-28T00:00:00+00:00\",\"2023-06-04T00:00:00+00:00\",\"2023-06-11T00:00:00+00:00\",\"2023-06-18T00:00:00+00:00\",\"2023-06-25T00:00:00+00:00\",\"2023-07-02T00:00:00+00:00\",\"2023-07-09T00:00:00+00:00\",\"2023-07-16T00:00:00+00:00\",\"2023-07-23T00:00:00+00:00\",\"2023-07-30T00:00:00+00:00\",\"2023-08-06T00:00:00+00:00\",\"2023-08-13T00:00:00+00:00\",\"2023-08-20T00:00:00+00:00\",\"2023-08-27T00:00:00+00:00\",\"2023-09-03T00:00:00+00:00\",\"2023-09-10T00:00:00+00:00\",\"2023-09-17T00:00:00+00:00\",\"2023-09-24T00:00:00+00:00\",\"2023-10-01T00:00:00+00:00\",\"2023-10-08T00:00:00+00:00\",\"2023-10-15T00:00:00+00:00\",\"2023-10-22T00:00:00+00:00\",\"2023-10-29T00:00:00+00:00\",\"2023-11-05T00:00:00+00:00\",\"2023-11-12T00:00:00+00:00\",\"2023-11-19T00:00:00+00:00\",\"2023-11-26T00:00:00+00:00\",\"2023-12-03T00:00:00+00:00\",\"2023-12-10T00:00:00+00:00\",\"2023-12-17T00:00:00+00:00\",\"2023-12-24T00:00:00+00:00\",\"2023-12-31T00:00:00+00:00\",\"2024-01-07T00:00:00+00:00\",\"2024-01-14T00:00:00+00:00\",\"2024-01-21T00:00:00+00:00\"]],\"type\":\"scatter\"},[0]],\"label\":\"precinct 3\",\"method\":\"restyle\",\"visible\":true},{\"args\":[{\"y\":[[5,28,40,41,20,29,31,27,25,33,31,43,34,42,33,27,27,35,40,28,27,20,28,8,15,24,26,21,17,27,24,16,24,26,21,16,15,11,17,14,21,25,28,21,20,23,28,26,26,25,12,21,24,20,16,6]],\"x\":[[\"2023-01-01T00:00:00+00:00\",\"2023-01-08T00:00:00+00:00\",\"2023-01-15T00:00:00+00:00\",\"2023-01-22T00:00:00+00:00\",\"2023-01-29T00:00:00+00:00\",\"2023-02-05T00:00:00+00:00\",\"2023-02-12T00:00:00+00:00\",\"2023-02-19T00:00:00+00:00\",\"2023-02-26T00:00:00+00:00\",\"2023-03-05T00:00:00+00:00\",\"2023-03-12T00:00:00+00:00\",\"2023-03-19T00:00:00+00:00\",\"2023-03-26T00:00:00+00:00\",\"2023-04-02T00:00:00+00:00\",\"2023-04-09T00:00:00+00:00\",\"2023-04-16T00:00:00+00:00\",\"2023-04-23T00:00:00+00:00\",\"2023-04-30T00:00:00+00:00\",\"2023-05-07T00:00:00+00:00\",\"2023-05-14T00:00:00+00:00\",\"2023-05-21T00:00:00+00:00\",\"2023-05-28T00:00:00+00:00\",\"2023-06-04T00:00:00+00:00\",\"2023-06-11T00:00:00+00:00\",\"2023-06-18T00:00:00+00:00\",\"2023-06-25T00:00:00+00:00\",\"2023-07-02T00:00:00+00:00\",\"2023-07-09T00:00:00+00:00\",\"2023-07-16T00:00:00+00:00\",\"2023-07-23T00:00:00+00:00\",\"2023-07-30T00:00:00+00:00\",\"2023-08-06T00:00:00+00:00\",\"2023-08-13T00:00:00+00:00\",\"2023-08-20T00:00:00+00:00\",\"2023-08-27T00:00:00+00:00\",\"2023-09-03T00:00:00+00:00\",\"2023-09-10T00:00:00+00:00\",\"2023-09-17T00:00:00+00:00\",\"2023-09-24T00:00:00+00:00\",\"2023-10-01T00:00:00+00:00\",\"2023-10-08T00:00:00+00:00\",\"2023-10-15T00:00:00+00:00\",\"2023-10-22T00:00:00+00:00\",\"2023-10-29T00:00:00+00:00\",\"2023-11-05T00:00:00+00:00\",\"2023-11-12T00:00:00+00:00\",\"2023-11-19T00:00:00+00:00\",\"2023-11-26T00:00:00+00:00\",\"2023-12-03T00:00:00+00:00\",\"2023-12-10T00:00:00+00:00\",\"2023-12-17T00:00:00+00:00\",\"2023-12-24T00:00:00+00:00\",\"2023-12-31T00:00:00+00:00\",\"2024-01-07T00:00:00+00:00\",\"2024-01-14T00:00:00+00:00\",\"2024-01-21T00:00:00+00:00\"]],\"type\":\"scatter\"},[0]],\"label\":\"precinct 4\",\"method\":\"restyle\",\"visible\":true},{\"args\":[{\"y\":[[6,40,35,64,44,57,64,83,42,46,38,54,50,47,88,49,50,61,51,49,32,35,26,36,23,32,30,28,76,34,40,24,59,35,32,50,35,22,31,19,31,23,33,34,41,22,22,28,26,30,27,43,33,33,30,27]],\"x\":[[\"2023-01-01T00:00:00+00:00\",\"2023-01-08T00:00:00+00:00\",\"2023-01-15T00:00:00+00:00\",\"2023-01-22T00:00:00+00:00\",\"2023-01-29T00:00:00+00:00\",\"2023-02-05T00:00:00+00:00\",\"2023-02-12T00:00:00+00:00\",\"2023-02-19T00:00:00+00:00\",\"2023-02-26T00:00:00+00:00\",\"2023-03-05T00:00:00+00:00\",\"2023-03-12T00:00:00+00:00\",\"2023-03-19T00:00:00+00:00\",\"2023-03-26T00:00:00+00:00\",\"2023-04-02T00:00:00+00:00\",\"2023-04-09T00:00:00+00:00\",\"2023-04-16T00:00:00+00:00\",\"2023-04-23T00:00:00+00:00\",\"2023-04-30T00:00:00+00:00\",\"2023-05-07T00:00:00+00:00\",\"2023-05-14T00:00:00+00:00\",\"2023-05-21T00:00:00+00:00\",\"2023-05-28T00:00:00+00:00\",\"2023-06-04T00:00:00+00:00\",\"2023-06-11T00:00:00+00:00\",\"2023-06-18T00:00:00+00:00\",\"2023-06-25T00:00:00+00:00\",\"2023-07-02T00:00:00+00:00\",\"2023-07-09T00:00:00+00:00\",\"2023-07-16T00:00:00+00:00\",\"2023-07-23T00:00:00+00:00\",\"2023-07-30T00:00:00+00:00\",\"2023-08-06T00:00:00+00:00\",\"2023-08-13T00:00:00+00:00\",\"2023-08-20T00:00:00+00:00\",\"2023-08-27T00:00:00+00:00\",\"2023-09-03T00:00:00+00:00\",\"2023-09-10T00:00:00+00:00\",\"2023-09-17T00:00:00+00:00\",\"2023-09-24T00:00:00+00:00\",\"2023-10-01T00:00:00+00:00\",\"2023-10-08T00:00:00+00:00\",\"2023-10-15T00:00:00+00:00\",\"2023-10-22T00:00:00+00:00\",\"2023-10-29T00:00:00+00:00\",\"2023-11-05T00:00:00+00:00\",\"2023-11-12T00:00:00+00:00\",\"2023-11-19T00:00:00+00:00\",\"2023-11-26T00:00:00+00:00\",\"2023-12-03T00:00:00+00:00\",\"2023-12-10T00:00:00+00:00\",\"2023-12-17T00:00:00+00:00\",\"2023-12-24T00:00:00+00:00\",\"2023-12-31T00:00:00+00:00\",\"2024-01-07T00:00:00+00:00\",\"2024-01-14T00:00:00+00:00\",\"2024-01-21T00:00:00+00:00\"]],\"type\":\"scatter\"},[0]],\"label\":\"precinct 5\",\"method\":\"restyle\",\"visible\":true}],\"direction\":\"down\",\"showactive\":true}]},                        {\"responsive\": true}                    ).then(function(){\n",
       "                            \n",
       "var gd = document.getElementById('11826cc5-b105-432a-907b-2f28be96fdeb');\n",
       "var x = new MutationObserver(function (mutations, observer) {{\n",
       "        var display = window.getComputedStyle(gd).display;\n",
       "        if (!display || display === 'none') {{\n",
       "            console.log([gd, 'removed!']);\n",
       "            Plotly.purge(gd);\n",
       "            observer.disconnect();\n",
       "        }}\n",
       "}});\n",
       "\n",
       "// Listen for the removal of the full notebook cells\n",
       "var notebookContainer = gd.closest('#notebook-container');\n",
       "if (notebookContainer) {{\n",
       "    x.observe(notebookContainer, {childList: true});\n",
       "}}\n",
       "\n",
       "// Listen for the clearing of the current output cell\n",
       "var outputEl = gd.closest('.output');\n",
       "if (outputEl) {{\n",
       "    x.observe(outputEl, {childList: true});\n",
       "}}\n",
       "\n",
       "                        })                };                });            </script>        </div>"
      ]
     },
     "metadata": {},
     "output_type": "display_data"
    }
   ],
   "source": [
    "# Plotly visualization\n",
    "fig = go.Figure()\n",
    "\n",
    "fig.add_trace(go.Scatter(x=df_scatter.index,\n",
    "                         y=df_scatter[df_scatter.columns[0]],\n",
    "                         visible=True))\n",
    "\n",
    "updatemenu = []\n",
    "buttons = []\n",
    "\n",
    "for col in df_scatter.columns:\n",
    "    buttons.append(dict(method='restyle',\n",
    "                        label=col,\n",
    "                        visible=True,\n",
    "                        args=[{'y':[df_scatter[col]],\n",
    "                               'x':[df_scatter.index],\n",
    "                               'type':'scatter'}, [0]],\n",
    "                        ))\n",
    "\n",
    "updatemenu.append(dict(buttons=buttons,\n",
    "                       direction='down',\n",
    "                       showactive=True))\n",
    "\n",
    "fig.update_layout(showlegend=False, updatemenus=updatemenu)\n",
    "fig.show()"
   ]
  },
  {
   "cell_type": "code",
   "execution_count": 34,
   "id": "c6828f9e",
   "metadata": {},
   "outputs": [
    {
     "data": {
      "application/vnd.plotly.v1+json": {
       "config": {
        "plotlyServerURL": "https://plot.ly"
       },
       "data": [
        {
         "marker": {
          "color": [
           0,
           0.25,
           0.5,
           0.75,
           1
          ],
          "coloraxis": "coloraxis"
         },
         "type": "bar",
         "x": [
          "1",
          "2",
          "4",
          "5",
          "3"
         ],
         "y": [
          765,
          1275,
          1358,
          2200,
          2394
         ]
        }
       ],
       "layout": {
        "coloraxis": {
         "colorbar": {
          "title": {
           "text": "Color Scale"
          }
         },
         "colorscale": [
          [
           0,
           "#440154"
          ],
          [
           0.1111111111111111,
           "#482878"
          ],
          [
           0.2222222222222222,
           "#3e4989"
          ],
          [
           0.3333333333333333,
           "#31688e"
          ],
          [
           0.4444444444444444,
           "#26828e"
          ],
          [
           0.5555555555555556,
           "#1f9e89"
          ],
          [
           0.6666666666666666,
           "#35b779"
          ],
          [
           0.7777777777777778,
           "#6ece58"
          ],
          [
           0.8888888888888888,
           "#b5de2b"
          ],
          [
           1,
           "#fde725"
          ]
         ]
        },
        "template": {
         "data": {
          "bar": [
           {
            "error_x": {
             "color": "#2a3f5f"
            },
            "error_y": {
             "color": "#2a3f5f"
            },
            "marker": {
             "line": {
              "color": "#E5ECF6",
              "width": 0.5
             },
             "pattern": {
              "fillmode": "overlay",
              "size": 10,
              "solidity": 0.2
             }
            },
            "type": "bar"
           }
          ],
          "barpolar": [
           {
            "marker": {
             "line": {
              "color": "#E5ECF6",
              "width": 0.5
             },
             "pattern": {
              "fillmode": "overlay",
              "size": 10,
              "solidity": 0.2
             }
            },
            "type": "barpolar"
           }
          ],
          "carpet": [
           {
            "aaxis": {
             "endlinecolor": "#2a3f5f",
             "gridcolor": "white",
             "linecolor": "white",
             "minorgridcolor": "white",
             "startlinecolor": "#2a3f5f"
            },
            "baxis": {
             "endlinecolor": "#2a3f5f",
             "gridcolor": "white",
             "linecolor": "white",
             "minorgridcolor": "white",
             "startlinecolor": "#2a3f5f"
            },
            "type": "carpet"
           }
          ],
          "choropleth": [
           {
            "colorbar": {
             "outlinewidth": 0,
             "ticks": ""
            },
            "type": "choropleth"
           }
          ],
          "contour": [
           {
            "colorbar": {
             "outlinewidth": 0,
             "ticks": ""
            },
            "colorscale": [
             [
              0,
              "#0d0887"
             ],
             [
              0.1111111111111111,
              "#46039f"
             ],
             [
              0.2222222222222222,
              "#7201a8"
             ],
             [
              0.3333333333333333,
              "#9c179e"
             ],
             [
              0.4444444444444444,
              "#bd3786"
             ],
             [
              0.5555555555555556,
              "#d8576b"
             ],
             [
              0.6666666666666666,
              "#ed7953"
             ],
             [
              0.7777777777777778,
              "#fb9f3a"
             ],
             [
              0.8888888888888888,
              "#fdca26"
             ],
             [
              1,
              "#f0f921"
             ]
            ],
            "type": "contour"
           }
          ],
          "contourcarpet": [
           {
            "colorbar": {
             "outlinewidth": 0,
             "ticks": ""
            },
            "type": "contourcarpet"
           }
          ],
          "heatmap": [
           {
            "colorbar": {
             "outlinewidth": 0,
             "ticks": ""
            },
            "colorscale": [
             [
              0,
              "#0d0887"
             ],
             [
              0.1111111111111111,
              "#46039f"
             ],
             [
              0.2222222222222222,
              "#7201a8"
             ],
             [
              0.3333333333333333,
              "#9c179e"
             ],
             [
              0.4444444444444444,
              "#bd3786"
             ],
             [
              0.5555555555555556,
              "#d8576b"
             ],
             [
              0.6666666666666666,
              "#ed7953"
             ],
             [
              0.7777777777777778,
              "#fb9f3a"
             ],
             [
              0.8888888888888888,
              "#fdca26"
             ],
             [
              1,
              "#f0f921"
             ]
            ],
            "type": "heatmap"
           }
          ],
          "heatmapgl": [
           {
            "colorbar": {
             "outlinewidth": 0,
             "ticks": ""
            },
            "colorscale": [
             [
              0,
              "#0d0887"
             ],
             [
              0.1111111111111111,
              "#46039f"
             ],
             [
              0.2222222222222222,
              "#7201a8"
             ],
             [
              0.3333333333333333,
              "#9c179e"
             ],
             [
              0.4444444444444444,
              "#bd3786"
             ],
             [
              0.5555555555555556,
              "#d8576b"
             ],
             [
              0.6666666666666666,
              "#ed7953"
             ],
             [
              0.7777777777777778,
              "#fb9f3a"
             ],
             [
              0.8888888888888888,
              "#fdca26"
             ],
             [
              1,
              "#f0f921"
             ]
            ],
            "type": "heatmapgl"
           }
          ],
          "histogram": [
           {
            "marker": {
             "pattern": {
              "fillmode": "overlay",
              "size": 10,
              "solidity": 0.2
             }
            },
            "type": "histogram"
           }
          ],
          "histogram2d": [
           {
            "colorbar": {
             "outlinewidth": 0,
             "ticks": ""
            },
            "colorscale": [
             [
              0,
              "#0d0887"
             ],
             [
              0.1111111111111111,
              "#46039f"
             ],
             [
              0.2222222222222222,
              "#7201a8"
             ],
             [
              0.3333333333333333,
              "#9c179e"
             ],
             [
              0.4444444444444444,
              "#bd3786"
             ],
             [
              0.5555555555555556,
              "#d8576b"
             ],
             [
              0.6666666666666666,
              "#ed7953"
             ],
             [
              0.7777777777777778,
              "#fb9f3a"
             ],
             [
              0.8888888888888888,
              "#fdca26"
             ],
             [
              1,
              "#f0f921"
             ]
            ],
            "type": "histogram2d"
           }
          ],
          "histogram2dcontour": [
           {
            "colorbar": {
             "outlinewidth": 0,
             "ticks": ""
            },
            "colorscale": [
             [
              0,
              "#0d0887"
             ],
             [
              0.1111111111111111,
              "#46039f"
             ],
             [
              0.2222222222222222,
              "#7201a8"
             ],
             [
              0.3333333333333333,
              "#9c179e"
             ],
             [
              0.4444444444444444,
              "#bd3786"
             ],
             [
              0.5555555555555556,
              "#d8576b"
             ],
             [
              0.6666666666666666,
              "#ed7953"
             ],
             [
              0.7777777777777778,
              "#fb9f3a"
             ],
             [
              0.8888888888888888,
              "#fdca26"
             ],
             [
              1,
              "#f0f921"
             ]
            ],
            "type": "histogram2dcontour"
           }
          ],
          "mesh3d": [
           {
            "colorbar": {
             "outlinewidth": 0,
             "ticks": ""
            },
            "type": "mesh3d"
           }
          ],
          "parcoords": [
           {
            "line": {
             "colorbar": {
              "outlinewidth": 0,
              "ticks": ""
             }
            },
            "type": "parcoords"
           }
          ],
          "pie": [
           {
            "automargin": true,
            "type": "pie"
           }
          ],
          "scatter": [
           {
            "fillpattern": {
             "fillmode": "overlay",
             "size": 10,
             "solidity": 0.2
            },
            "type": "scatter"
           }
          ],
          "scatter3d": [
           {
            "line": {
             "colorbar": {
              "outlinewidth": 0,
              "ticks": ""
             }
            },
            "marker": {
             "colorbar": {
              "outlinewidth": 0,
              "ticks": ""
             }
            },
            "type": "scatter3d"
           }
          ],
          "scattercarpet": [
           {
            "marker": {
             "colorbar": {
              "outlinewidth": 0,
              "ticks": ""
             }
            },
            "type": "scattercarpet"
           }
          ],
          "scattergeo": [
           {
            "marker": {
             "colorbar": {
              "outlinewidth": 0,
              "ticks": ""
             }
            },
            "type": "scattergeo"
           }
          ],
          "scattergl": [
           {
            "marker": {
             "colorbar": {
              "outlinewidth": 0,
              "ticks": ""
             }
            },
            "type": "scattergl"
           }
          ],
          "scattermapbox": [
           {
            "marker": {
             "colorbar": {
              "outlinewidth": 0,
              "ticks": ""
             }
            },
            "type": "scattermapbox"
           }
          ],
          "scatterpolar": [
           {
            "marker": {
             "colorbar": {
              "outlinewidth": 0,
              "ticks": ""
             }
            },
            "type": "scatterpolar"
           }
          ],
          "scatterpolargl": [
           {
            "marker": {
             "colorbar": {
              "outlinewidth": 0,
              "ticks": ""
             }
            },
            "type": "scatterpolargl"
           }
          ],
          "scatterternary": [
           {
            "marker": {
             "colorbar": {
              "outlinewidth": 0,
              "ticks": ""
             }
            },
            "type": "scatterternary"
           }
          ],
          "surface": [
           {
            "colorbar": {
             "outlinewidth": 0,
             "ticks": ""
            },
            "colorscale": [
             [
              0,
              "#0d0887"
             ],
             [
              0.1111111111111111,
              "#46039f"
             ],
             [
              0.2222222222222222,
              "#7201a8"
             ],
             [
              0.3333333333333333,
              "#9c179e"
             ],
             [
              0.4444444444444444,
              "#bd3786"
             ],
             [
              0.5555555555555556,
              "#d8576b"
             ],
             [
              0.6666666666666666,
              "#ed7953"
             ],
             [
              0.7777777777777778,
              "#fb9f3a"
             ],
             [
              0.8888888888888888,
              "#fdca26"
             ],
             [
              1,
              "#f0f921"
             ]
            ],
            "type": "surface"
           }
          ],
          "table": [
           {
            "cells": {
             "fill": {
              "color": "#EBF0F8"
             },
             "line": {
              "color": "white"
             }
            },
            "header": {
             "fill": {
              "color": "#C8D4E3"
             },
             "line": {
              "color": "white"
             }
            },
            "type": "table"
           }
          ]
         },
         "layout": {
          "annotationdefaults": {
           "arrowcolor": "#2a3f5f",
           "arrowhead": 0,
           "arrowwidth": 1
          },
          "autotypenumbers": "strict",
          "coloraxis": {
           "colorbar": {
            "outlinewidth": 0,
            "ticks": ""
           }
          },
          "colorscale": {
           "diverging": [
            [
             0,
             "#8e0152"
            ],
            [
             0.1,
             "#c51b7d"
            ],
            [
             0.2,
             "#de77ae"
            ],
            [
             0.3,
             "#f1b6da"
            ],
            [
             0.4,
             "#fde0ef"
            ],
            [
             0.5,
             "#f7f7f7"
            ],
            [
             0.6,
             "#e6f5d0"
            ],
            [
             0.7,
             "#b8e186"
            ],
            [
             0.8,
             "#7fbc41"
            ],
            [
             0.9,
             "#4d9221"
            ],
            [
             1,
             "#276419"
            ]
           ],
           "sequential": [
            [
             0,
             "#0d0887"
            ],
            [
             0.1111111111111111,
             "#46039f"
            ],
            [
             0.2222222222222222,
             "#7201a8"
            ],
            [
             0.3333333333333333,
             "#9c179e"
            ],
            [
             0.4444444444444444,
             "#bd3786"
            ],
            [
             0.5555555555555556,
             "#d8576b"
            ],
            [
             0.6666666666666666,
             "#ed7953"
            ],
            [
             0.7777777777777778,
             "#fb9f3a"
            ],
            [
             0.8888888888888888,
             "#fdca26"
            ],
            [
             1,
             "#f0f921"
            ]
           ],
           "sequentialminus": [
            [
             0,
             "#0d0887"
            ],
            [
             0.1111111111111111,
             "#46039f"
            ],
            [
             0.2222222222222222,
             "#7201a8"
            ],
            [
             0.3333333333333333,
             "#9c179e"
            ],
            [
             0.4444444444444444,
             "#bd3786"
            ],
            [
             0.5555555555555556,
             "#d8576b"
            ],
            [
             0.6666666666666666,
             "#ed7953"
            ],
            [
             0.7777777777777778,
             "#fb9f3a"
            ],
            [
             0.8888888888888888,
             "#fdca26"
            ],
            [
             1,
             "#f0f921"
            ]
           ]
          },
          "colorway": [
           "#636efa",
           "#EF553B",
           "#00cc96",
           "#ab63fa",
           "#FFA15A",
           "#19d3f3",
           "#FF6692",
           "#B6E880",
           "#FF97FF",
           "#FECB52"
          ],
          "font": {
           "color": "#2a3f5f"
          },
          "geo": {
           "bgcolor": "white",
           "lakecolor": "white",
           "landcolor": "#E5ECF6",
           "showlakes": true,
           "showland": true,
           "subunitcolor": "white"
          },
          "hoverlabel": {
           "align": "left"
          },
          "hovermode": "closest",
          "mapbox": {
           "style": "light"
          },
          "paper_bgcolor": "white",
          "plot_bgcolor": "#E5ECF6",
          "polar": {
           "angularaxis": {
            "gridcolor": "white",
            "linecolor": "white",
            "ticks": ""
           },
           "bgcolor": "#E5ECF6",
           "radialaxis": {
            "gridcolor": "white",
            "linecolor": "white",
            "ticks": ""
           }
          },
          "scene": {
           "xaxis": {
            "backgroundcolor": "#E5ECF6",
            "gridcolor": "white",
            "gridwidth": 2,
            "linecolor": "white",
            "showbackground": true,
            "ticks": "",
            "zerolinecolor": "white"
           },
           "yaxis": {
            "backgroundcolor": "#E5ECF6",
            "gridcolor": "white",
            "gridwidth": 2,
            "linecolor": "white",
            "showbackground": true,
            "ticks": "",
            "zerolinecolor": "white"
           },
           "zaxis": {
            "backgroundcolor": "#E5ECF6",
            "gridcolor": "white",
            "gridwidth": 2,
            "linecolor": "white",
            "showbackground": true,
            "ticks": "",
            "zerolinecolor": "white"
           }
          },
          "shapedefaults": {
           "line": {
            "color": "#2a3f5f"
           }
          },
          "ternary": {
           "aaxis": {
            "gridcolor": "white",
            "linecolor": "white",
            "ticks": ""
           },
           "baxis": {
            "gridcolor": "white",
            "linecolor": "white",
            "ticks": ""
           },
           "bgcolor": "#E5ECF6",
           "caxis": {
            "gridcolor": "white",
            "linecolor": "white",
            "ticks": ""
           }
          },
          "title": {
           "x": 0.05
          },
          "xaxis": {
           "automargin": true,
           "gridcolor": "white",
           "linecolor": "white",
           "ticks": "",
           "title": {
            "standoff": 15
           },
           "zerolinecolor": "white",
           "zerolinewidth": 2
          },
          "yaxis": {
           "automargin": true,
           "gridcolor": "white",
           "linecolor": "white",
           "ticks": "",
           "title": {
            "standoff": 15
           },
           "zerolinecolor": "white",
           "zerolinewidth": 2
          }
         }
        },
        "title": {
         "text": "Total Auto Thefts by Precinct (Ascending Order)"
        },
        "xaxis": {
         "title": {
          "text": "Precinct"
         }
        },
        "yaxis": {
         "title": {
          "text": "Count"
         }
        }
       }
      },
      "text/html": [
       "<div>                            <div id=\"9486dfaa-ce1e-4963-8cb0-4a7e671aa137\" class=\"plotly-graph-div\" style=\"height:525px; width:100%;\"></div>            <script type=\"text/javascript\">                require([\"plotly\"], function(Plotly) {                    window.PLOTLYENV=window.PLOTLYENV || {};                                    if (document.getElementById(\"9486dfaa-ce1e-4963-8cb0-4a7e671aa137\")) {                    Plotly.newPlot(                        \"9486dfaa-ce1e-4963-8cb0-4a7e671aa137\",                        [{\"marker\":{\"color\":[0.0,0.25,0.5,0.75,1.0],\"coloraxis\":\"coloraxis\"},\"x\":[\"1\",\"2\",\"4\",\"5\",\"3\"],\"y\":[765,1275,1358,2200,2394],\"type\":\"bar\"}],                        {\"template\":{\"data\":{\"histogram2dcontour\":[{\"type\":\"histogram2dcontour\",\"colorbar\":{\"outlinewidth\":0,\"ticks\":\"\"},\"colorscale\":[[0.0,\"#0d0887\"],[0.1111111111111111,\"#46039f\"],[0.2222222222222222,\"#7201a8\"],[0.3333333333333333,\"#9c179e\"],[0.4444444444444444,\"#bd3786\"],[0.5555555555555556,\"#d8576b\"],[0.6666666666666666,\"#ed7953\"],[0.7777777777777778,\"#fb9f3a\"],[0.8888888888888888,\"#fdca26\"],[1.0,\"#f0f921\"]]}],\"choropleth\":[{\"type\":\"choropleth\",\"colorbar\":{\"outlinewidth\":0,\"ticks\":\"\"}}],\"histogram2d\":[{\"type\":\"histogram2d\",\"colorbar\":{\"outlinewidth\":0,\"ticks\":\"\"},\"colorscale\":[[0.0,\"#0d0887\"],[0.1111111111111111,\"#46039f\"],[0.2222222222222222,\"#7201a8\"],[0.3333333333333333,\"#9c179e\"],[0.4444444444444444,\"#bd3786\"],[0.5555555555555556,\"#d8576b\"],[0.6666666666666666,\"#ed7953\"],[0.7777777777777778,\"#fb9f3a\"],[0.8888888888888888,\"#fdca26\"],[1.0,\"#f0f921\"]]}],\"heatmap\":[{\"type\":\"heatmap\",\"colorbar\":{\"outlinewidth\":0,\"ticks\":\"\"},\"colorscale\":[[0.0,\"#0d0887\"],[0.1111111111111111,\"#46039f\"],[0.2222222222222222,\"#7201a8\"],[0.3333333333333333,\"#9c179e\"],[0.4444444444444444,\"#bd3786\"],[0.5555555555555556,\"#d8576b\"],[0.6666666666666666,\"#ed7953\"],[0.7777777777777778,\"#fb9f3a\"],[0.8888888888888888,\"#fdca26\"],[1.0,\"#f0f921\"]]}],\"heatmapgl\":[{\"type\":\"heatmapgl\",\"colorbar\":{\"outlinewidth\":0,\"ticks\":\"\"},\"colorscale\":[[0.0,\"#0d0887\"],[0.1111111111111111,\"#46039f\"],[0.2222222222222222,\"#7201a8\"],[0.3333333333333333,\"#9c179e\"],[0.4444444444444444,\"#bd3786\"],[0.5555555555555556,\"#d8576b\"],[0.6666666666666666,\"#ed7953\"],[0.7777777777777778,\"#fb9f3a\"],[0.8888888888888888,\"#fdca26\"],[1.0,\"#f0f921\"]]}],\"contourcarpet\":[{\"type\":\"contourcarpet\",\"colorbar\":{\"outlinewidth\":0,\"ticks\":\"\"}}],\"contour\":[{\"type\":\"contour\",\"colorbar\":{\"outlinewidth\":0,\"ticks\":\"\"},\"colorscale\":[[0.0,\"#0d0887\"],[0.1111111111111111,\"#46039f\"],[0.2222222222222222,\"#7201a8\"],[0.3333333333333333,\"#9c179e\"],[0.4444444444444444,\"#bd3786\"],[0.5555555555555556,\"#d8576b\"],[0.6666666666666666,\"#ed7953\"],[0.7777777777777778,\"#fb9f3a\"],[0.8888888888888888,\"#fdca26\"],[1.0,\"#f0f921\"]]}],\"surface\":[{\"type\":\"surface\",\"colorbar\":{\"outlinewidth\":0,\"ticks\":\"\"},\"colorscale\":[[0.0,\"#0d0887\"],[0.1111111111111111,\"#46039f\"],[0.2222222222222222,\"#7201a8\"],[0.3333333333333333,\"#9c179e\"],[0.4444444444444444,\"#bd3786\"],[0.5555555555555556,\"#d8576b\"],[0.6666666666666666,\"#ed7953\"],[0.7777777777777778,\"#fb9f3a\"],[0.8888888888888888,\"#fdca26\"],[1.0,\"#f0f921\"]]}],\"mesh3d\":[{\"type\":\"mesh3d\",\"colorbar\":{\"outlinewidth\":0,\"ticks\":\"\"}}],\"scatter\":[{\"fillpattern\":{\"fillmode\":\"overlay\",\"size\":10,\"solidity\":0.2},\"type\":\"scatter\"}],\"parcoords\":[{\"type\":\"parcoords\",\"line\":{\"colorbar\":{\"outlinewidth\":0,\"ticks\":\"\"}}}],\"scatterpolargl\":[{\"type\":\"scatterpolargl\",\"marker\":{\"colorbar\":{\"outlinewidth\":0,\"ticks\":\"\"}}}],\"bar\":[{\"error_x\":{\"color\":\"#2a3f5f\"},\"error_y\":{\"color\":\"#2a3f5f\"},\"marker\":{\"line\":{\"color\":\"#E5ECF6\",\"width\":0.5},\"pattern\":{\"fillmode\":\"overlay\",\"size\":10,\"solidity\":0.2}},\"type\":\"bar\"}],\"scattergeo\":[{\"type\":\"scattergeo\",\"marker\":{\"colorbar\":{\"outlinewidth\":0,\"ticks\":\"\"}}}],\"scatterpolar\":[{\"type\":\"scatterpolar\",\"marker\":{\"colorbar\":{\"outlinewidth\":0,\"ticks\":\"\"}}}],\"histogram\":[{\"marker\":{\"pattern\":{\"fillmode\":\"overlay\",\"size\":10,\"solidity\":0.2}},\"type\":\"histogram\"}],\"scattergl\":[{\"type\":\"scattergl\",\"marker\":{\"colorbar\":{\"outlinewidth\":0,\"ticks\":\"\"}}}],\"scatter3d\":[{\"type\":\"scatter3d\",\"line\":{\"colorbar\":{\"outlinewidth\":0,\"ticks\":\"\"}},\"marker\":{\"colorbar\":{\"outlinewidth\":0,\"ticks\":\"\"}}}],\"scattermapbox\":[{\"type\":\"scattermapbox\",\"marker\":{\"colorbar\":{\"outlinewidth\":0,\"ticks\":\"\"}}}],\"scatterternary\":[{\"type\":\"scatterternary\",\"marker\":{\"colorbar\":{\"outlinewidth\":0,\"ticks\":\"\"}}}],\"scattercarpet\":[{\"type\":\"scattercarpet\",\"marker\":{\"colorbar\":{\"outlinewidth\":0,\"ticks\":\"\"}}}],\"carpet\":[{\"aaxis\":{\"endlinecolor\":\"#2a3f5f\",\"gridcolor\":\"white\",\"linecolor\":\"white\",\"minorgridcolor\":\"white\",\"startlinecolor\":\"#2a3f5f\"},\"baxis\":{\"endlinecolor\":\"#2a3f5f\",\"gridcolor\":\"white\",\"linecolor\":\"white\",\"minorgridcolor\":\"white\",\"startlinecolor\":\"#2a3f5f\"},\"type\":\"carpet\"}],\"table\":[{\"cells\":{\"fill\":{\"color\":\"#EBF0F8\"},\"line\":{\"color\":\"white\"}},\"header\":{\"fill\":{\"color\":\"#C8D4E3\"},\"line\":{\"color\":\"white\"}},\"type\":\"table\"}],\"barpolar\":[{\"marker\":{\"line\":{\"color\":\"#E5ECF6\",\"width\":0.5},\"pattern\":{\"fillmode\":\"overlay\",\"size\":10,\"solidity\":0.2}},\"type\":\"barpolar\"}],\"pie\":[{\"automargin\":true,\"type\":\"pie\"}]},\"layout\":{\"autotypenumbers\":\"strict\",\"colorway\":[\"#636efa\",\"#EF553B\",\"#00cc96\",\"#ab63fa\",\"#FFA15A\",\"#19d3f3\",\"#FF6692\",\"#B6E880\",\"#FF97FF\",\"#FECB52\"],\"font\":{\"color\":\"#2a3f5f\"},\"hovermode\":\"closest\",\"hoverlabel\":{\"align\":\"left\"},\"paper_bgcolor\":\"white\",\"plot_bgcolor\":\"#E5ECF6\",\"polar\":{\"bgcolor\":\"#E5ECF6\",\"angularaxis\":{\"gridcolor\":\"white\",\"linecolor\":\"white\",\"ticks\":\"\"},\"radialaxis\":{\"gridcolor\":\"white\",\"linecolor\":\"white\",\"ticks\":\"\"}},\"ternary\":{\"bgcolor\":\"#E5ECF6\",\"aaxis\":{\"gridcolor\":\"white\",\"linecolor\":\"white\",\"ticks\":\"\"},\"baxis\":{\"gridcolor\":\"white\",\"linecolor\":\"white\",\"ticks\":\"\"},\"caxis\":{\"gridcolor\":\"white\",\"linecolor\":\"white\",\"ticks\":\"\"}},\"coloraxis\":{\"colorbar\":{\"outlinewidth\":0,\"ticks\":\"\"}},\"colorscale\":{\"sequential\":[[0.0,\"#0d0887\"],[0.1111111111111111,\"#46039f\"],[0.2222222222222222,\"#7201a8\"],[0.3333333333333333,\"#9c179e\"],[0.4444444444444444,\"#bd3786\"],[0.5555555555555556,\"#d8576b\"],[0.6666666666666666,\"#ed7953\"],[0.7777777777777778,\"#fb9f3a\"],[0.8888888888888888,\"#fdca26\"],[1.0,\"#f0f921\"]],\"sequentialminus\":[[0.0,\"#0d0887\"],[0.1111111111111111,\"#46039f\"],[0.2222222222222222,\"#7201a8\"],[0.3333333333333333,\"#9c179e\"],[0.4444444444444444,\"#bd3786\"],[0.5555555555555556,\"#d8576b\"],[0.6666666666666666,\"#ed7953\"],[0.7777777777777778,\"#fb9f3a\"],[0.8888888888888888,\"#fdca26\"],[1.0,\"#f0f921\"]],\"diverging\":[[0,\"#8e0152\"],[0.1,\"#c51b7d\"],[0.2,\"#de77ae\"],[0.3,\"#f1b6da\"],[0.4,\"#fde0ef\"],[0.5,\"#f7f7f7\"],[0.6,\"#e6f5d0\"],[0.7,\"#b8e186\"],[0.8,\"#7fbc41\"],[0.9,\"#4d9221\"],[1,\"#276419\"]]},\"xaxis\":{\"gridcolor\":\"white\",\"linecolor\":\"white\",\"ticks\":\"\",\"title\":{\"standoff\":15},\"zerolinecolor\":\"white\",\"automargin\":true,\"zerolinewidth\":2},\"yaxis\":{\"gridcolor\":\"white\",\"linecolor\":\"white\",\"ticks\":\"\",\"title\":{\"standoff\":15},\"zerolinecolor\":\"white\",\"automargin\":true,\"zerolinewidth\":2},\"scene\":{\"xaxis\":{\"backgroundcolor\":\"#E5ECF6\",\"gridcolor\":\"white\",\"linecolor\":\"white\",\"showbackground\":true,\"ticks\":\"\",\"zerolinecolor\":\"white\",\"gridwidth\":2},\"yaxis\":{\"backgroundcolor\":\"#E5ECF6\",\"gridcolor\":\"white\",\"linecolor\":\"white\",\"showbackground\":true,\"ticks\":\"\",\"zerolinecolor\":\"white\",\"gridwidth\":2},\"zaxis\":{\"backgroundcolor\":\"#E5ECF6\",\"gridcolor\":\"white\",\"linecolor\":\"white\",\"showbackground\":true,\"ticks\":\"\",\"zerolinecolor\":\"white\",\"gridwidth\":2}},\"shapedefaults\":{\"line\":{\"color\":\"#2a3f5f\"}},\"annotationdefaults\":{\"arrowcolor\":\"#2a3f5f\",\"arrowhead\":0,\"arrowwidth\":1},\"geo\":{\"bgcolor\":\"white\",\"landcolor\":\"#E5ECF6\",\"subunitcolor\":\"white\",\"showland\":true,\"showlakes\":true,\"lakecolor\":\"white\"},\"title\":{\"x\":0.05},\"mapbox\":{\"style\":\"light\"}}},\"coloraxis\":{\"colorbar\":{\"title\":{\"text\":\"Color Scale\"}},\"colorscale\":[[0.0,\"#440154\"],[0.1111111111111111,\"#482878\"],[0.2222222222222222,\"#3e4989\"],[0.3333333333333333,\"#31688e\"],[0.4444444444444444,\"#26828e\"],[0.5555555555555556,\"#1f9e89\"],[0.6666666666666666,\"#35b779\"],[0.7777777777777778,\"#6ece58\"],[0.8888888888888888,\"#b5de2b\"],[1.0,\"#fde725\"]]},\"title\":{\"text\":\"Total Auto Thefts by Precinct (Ascending Order)\"},\"xaxis\":{\"title\":{\"text\":\"Precinct\"}},\"yaxis\":{\"title\":{\"text\":\"Count\"}}},                        {\"responsive\": true}                    ).then(function(){\n",
       "                            \n",
       "var gd = document.getElementById('9486dfaa-ce1e-4963-8cb0-4a7e671aa137');\n",
       "var x = new MutationObserver(function (mutations, observer) {{\n",
       "        var display = window.getComputedStyle(gd).display;\n",
       "        if (!display || display === 'none') {{\n",
       "            console.log([gd, 'removed!']);\n",
       "            Plotly.purge(gd);\n",
       "            observer.disconnect();\n",
       "        }}\n",
       "}});\n",
       "\n",
       "// Listen for the removal of the full notebook cells\n",
       "var notebookContainer = gd.closest('#notebook-container');\n",
       "if (notebookContainer) {{\n",
       "    x.observe(notebookContainer, {childList: true});\n",
       "}}\n",
       "\n",
       "// Listen for the clearing of the current output cell\n",
       "var outputEl = gd.closest('.output');\n",
       "if (outputEl) {{\n",
       "    x.observe(outputEl, {childList: true});\n",
       "}}\n",
       "\n",
       "                        })                };                });            </script>        </div>"
      ]
     },
     "metadata": {},
     "output_type": "display_data"
    },
    {
     "data": {
      "application/vnd.plotly.v1+json": {
       "config": {
        "plotlyServerURL": "https://plot.ly"
       },
       "data": [
        {
         "marker": {
          "color": [
           0,
           0.25,
           0.5,
           0.75,
           1
          ],
          "coloraxis": "coloraxis"
         },
         "type": "bar",
         "x": [
          "3",
          "5",
          "4",
          "2",
          "1"
         ],
         "y": [
          2394,
          2200,
          1358,
          1275,
          765
         ]
        }
       ],
       "layout": {
        "coloraxis": {
         "colorbar": {
          "title": {
           "text": "Color Scale"
          }
         },
         "colorscale": [
          [
           0,
           "#440154"
          ],
          [
           0.1111111111111111,
           "#482878"
          ],
          [
           0.2222222222222222,
           "#3e4989"
          ],
          [
           0.3333333333333333,
           "#31688e"
          ],
          [
           0.4444444444444444,
           "#26828e"
          ],
          [
           0.5555555555555556,
           "#1f9e89"
          ],
          [
           0.6666666666666666,
           "#35b779"
          ],
          [
           0.7777777777777778,
           "#6ece58"
          ],
          [
           0.8888888888888888,
           "#b5de2b"
          ],
          [
           1,
           "#fde725"
          ]
         ]
        },
        "template": {
         "data": {
          "bar": [
           {
            "error_x": {
             "color": "#2a3f5f"
            },
            "error_y": {
             "color": "#2a3f5f"
            },
            "marker": {
             "line": {
              "color": "#E5ECF6",
              "width": 0.5
             },
             "pattern": {
              "fillmode": "overlay",
              "size": 10,
              "solidity": 0.2
             }
            },
            "type": "bar"
           }
          ],
          "barpolar": [
           {
            "marker": {
             "line": {
              "color": "#E5ECF6",
              "width": 0.5
             },
             "pattern": {
              "fillmode": "overlay",
              "size": 10,
              "solidity": 0.2
             }
            },
            "type": "barpolar"
           }
          ],
          "carpet": [
           {
            "aaxis": {
             "endlinecolor": "#2a3f5f",
             "gridcolor": "white",
             "linecolor": "white",
             "minorgridcolor": "white",
             "startlinecolor": "#2a3f5f"
            },
            "baxis": {
             "endlinecolor": "#2a3f5f",
             "gridcolor": "white",
             "linecolor": "white",
             "minorgridcolor": "white",
             "startlinecolor": "#2a3f5f"
            },
            "type": "carpet"
           }
          ],
          "choropleth": [
           {
            "colorbar": {
             "outlinewidth": 0,
             "ticks": ""
            },
            "type": "choropleth"
           }
          ],
          "contour": [
           {
            "colorbar": {
             "outlinewidth": 0,
             "ticks": ""
            },
            "colorscale": [
             [
              0,
              "#0d0887"
             ],
             [
              0.1111111111111111,
              "#46039f"
             ],
             [
              0.2222222222222222,
              "#7201a8"
             ],
             [
              0.3333333333333333,
              "#9c179e"
             ],
             [
              0.4444444444444444,
              "#bd3786"
             ],
             [
              0.5555555555555556,
              "#d8576b"
             ],
             [
              0.6666666666666666,
              "#ed7953"
             ],
             [
              0.7777777777777778,
              "#fb9f3a"
             ],
             [
              0.8888888888888888,
              "#fdca26"
             ],
             [
              1,
              "#f0f921"
             ]
            ],
            "type": "contour"
           }
          ],
          "contourcarpet": [
           {
            "colorbar": {
             "outlinewidth": 0,
             "ticks": ""
            },
            "type": "contourcarpet"
           }
          ],
          "heatmap": [
           {
            "colorbar": {
             "outlinewidth": 0,
             "ticks": ""
            },
            "colorscale": [
             [
              0,
              "#0d0887"
             ],
             [
              0.1111111111111111,
              "#46039f"
             ],
             [
              0.2222222222222222,
              "#7201a8"
             ],
             [
              0.3333333333333333,
              "#9c179e"
             ],
             [
              0.4444444444444444,
              "#bd3786"
             ],
             [
              0.5555555555555556,
              "#d8576b"
             ],
             [
              0.6666666666666666,
              "#ed7953"
             ],
             [
              0.7777777777777778,
              "#fb9f3a"
             ],
             [
              0.8888888888888888,
              "#fdca26"
             ],
             [
              1,
              "#f0f921"
             ]
            ],
            "type": "heatmap"
           }
          ],
          "heatmapgl": [
           {
            "colorbar": {
             "outlinewidth": 0,
             "ticks": ""
            },
            "colorscale": [
             [
              0,
              "#0d0887"
             ],
             [
              0.1111111111111111,
              "#46039f"
             ],
             [
              0.2222222222222222,
              "#7201a8"
             ],
             [
              0.3333333333333333,
              "#9c179e"
             ],
             [
              0.4444444444444444,
              "#bd3786"
             ],
             [
              0.5555555555555556,
              "#d8576b"
             ],
             [
              0.6666666666666666,
              "#ed7953"
             ],
             [
              0.7777777777777778,
              "#fb9f3a"
             ],
             [
              0.8888888888888888,
              "#fdca26"
             ],
             [
              1,
              "#f0f921"
             ]
            ],
            "type": "heatmapgl"
           }
          ],
          "histogram": [
           {
            "marker": {
             "pattern": {
              "fillmode": "overlay",
              "size": 10,
              "solidity": 0.2
             }
            },
            "type": "histogram"
           }
          ],
          "histogram2d": [
           {
            "colorbar": {
             "outlinewidth": 0,
             "ticks": ""
            },
            "colorscale": [
             [
              0,
              "#0d0887"
             ],
             [
              0.1111111111111111,
              "#46039f"
             ],
             [
              0.2222222222222222,
              "#7201a8"
             ],
             [
              0.3333333333333333,
              "#9c179e"
             ],
             [
              0.4444444444444444,
              "#bd3786"
             ],
             [
              0.5555555555555556,
              "#d8576b"
             ],
             [
              0.6666666666666666,
              "#ed7953"
             ],
             [
              0.7777777777777778,
              "#fb9f3a"
             ],
             [
              0.8888888888888888,
              "#fdca26"
             ],
             [
              1,
              "#f0f921"
             ]
            ],
            "type": "histogram2d"
           }
          ],
          "histogram2dcontour": [
           {
            "colorbar": {
             "outlinewidth": 0,
             "ticks": ""
            },
            "colorscale": [
             [
              0,
              "#0d0887"
             ],
             [
              0.1111111111111111,
              "#46039f"
             ],
             [
              0.2222222222222222,
              "#7201a8"
             ],
             [
              0.3333333333333333,
              "#9c179e"
             ],
             [
              0.4444444444444444,
              "#bd3786"
             ],
             [
              0.5555555555555556,
              "#d8576b"
             ],
             [
              0.6666666666666666,
              "#ed7953"
             ],
             [
              0.7777777777777778,
              "#fb9f3a"
             ],
             [
              0.8888888888888888,
              "#fdca26"
             ],
             [
              1,
              "#f0f921"
             ]
            ],
            "type": "histogram2dcontour"
           }
          ],
          "mesh3d": [
           {
            "colorbar": {
             "outlinewidth": 0,
             "ticks": ""
            },
            "type": "mesh3d"
           }
          ],
          "parcoords": [
           {
            "line": {
             "colorbar": {
              "outlinewidth": 0,
              "ticks": ""
             }
            },
            "type": "parcoords"
           }
          ],
          "pie": [
           {
            "automargin": true,
            "type": "pie"
           }
          ],
          "scatter": [
           {
            "fillpattern": {
             "fillmode": "overlay",
             "size": 10,
             "solidity": 0.2
            },
            "type": "scatter"
           }
          ],
          "scatter3d": [
           {
            "line": {
             "colorbar": {
              "outlinewidth": 0,
              "ticks": ""
             }
            },
            "marker": {
             "colorbar": {
              "outlinewidth": 0,
              "ticks": ""
             }
            },
            "type": "scatter3d"
           }
          ],
          "scattercarpet": [
           {
            "marker": {
             "colorbar": {
              "outlinewidth": 0,
              "ticks": ""
             }
            },
            "type": "scattercarpet"
           }
          ],
          "scattergeo": [
           {
            "marker": {
             "colorbar": {
              "outlinewidth": 0,
              "ticks": ""
             }
            },
            "type": "scattergeo"
           }
          ],
          "scattergl": [
           {
            "marker": {
             "colorbar": {
              "outlinewidth": 0,
              "ticks": ""
             }
            },
            "type": "scattergl"
           }
          ],
          "scattermapbox": [
           {
            "marker": {
             "colorbar": {
              "outlinewidth": 0,
              "ticks": ""
             }
            },
            "type": "scattermapbox"
           }
          ],
          "scatterpolar": [
           {
            "marker": {
             "colorbar": {
              "outlinewidth": 0,
              "ticks": ""
             }
            },
            "type": "scatterpolar"
           }
          ],
          "scatterpolargl": [
           {
            "marker": {
             "colorbar": {
              "outlinewidth": 0,
              "ticks": ""
             }
            },
            "type": "scatterpolargl"
           }
          ],
          "scatterternary": [
           {
            "marker": {
             "colorbar": {
              "outlinewidth": 0,
              "ticks": ""
             }
            },
            "type": "scatterternary"
           }
          ],
          "surface": [
           {
            "colorbar": {
             "outlinewidth": 0,
             "ticks": ""
            },
            "colorscale": [
             [
              0,
              "#0d0887"
             ],
             [
              0.1111111111111111,
              "#46039f"
             ],
             [
              0.2222222222222222,
              "#7201a8"
             ],
             [
              0.3333333333333333,
              "#9c179e"
             ],
             [
              0.4444444444444444,
              "#bd3786"
             ],
             [
              0.5555555555555556,
              "#d8576b"
             ],
             [
              0.6666666666666666,
              "#ed7953"
             ],
             [
              0.7777777777777778,
              "#fb9f3a"
             ],
             [
              0.8888888888888888,
              "#fdca26"
             ],
             [
              1,
              "#f0f921"
             ]
            ],
            "type": "surface"
           }
          ],
          "table": [
           {
            "cells": {
             "fill": {
              "color": "#EBF0F8"
             },
             "line": {
              "color": "white"
             }
            },
            "header": {
             "fill": {
              "color": "#C8D4E3"
             },
             "line": {
              "color": "white"
             }
            },
            "type": "table"
           }
          ]
         },
         "layout": {
          "annotationdefaults": {
           "arrowcolor": "#2a3f5f",
           "arrowhead": 0,
           "arrowwidth": 1
          },
          "autotypenumbers": "strict",
          "coloraxis": {
           "colorbar": {
            "outlinewidth": 0,
            "ticks": ""
           }
          },
          "colorscale": {
           "diverging": [
            [
             0,
             "#8e0152"
            ],
            [
             0.1,
             "#c51b7d"
            ],
            [
             0.2,
             "#de77ae"
            ],
            [
             0.3,
             "#f1b6da"
            ],
            [
             0.4,
             "#fde0ef"
            ],
            [
             0.5,
             "#f7f7f7"
            ],
            [
             0.6,
             "#e6f5d0"
            ],
            [
             0.7,
             "#b8e186"
            ],
            [
             0.8,
             "#7fbc41"
            ],
            [
             0.9,
             "#4d9221"
            ],
            [
             1,
             "#276419"
            ]
           ],
           "sequential": [
            [
             0,
             "#0d0887"
            ],
            [
             0.1111111111111111,
             "#46039f"
            ],
            [
             0.2222222222222222,
             "#7201a8"
            ],
            [
             0.3333333333333333,
             "#9c179e"
            ],
            [
             0.4444444444444444,
             "#bd3786"
            ],
            [
             0.5555555555555556,
             "#d8576b"
            ],
            [
             0.6666666666666666,
             "#ed7953"
            ],
            [
             0.7777777777777778,
             "#fb9f3a"
            ],
            [
             0.8888888888888888,
             "#fdca26"
            ],
            [
             1,
             "#f0f921"
            ]
           ],
           "sequentialminus": [
            [
             0,
             "#0d0887"
            ],
            [
             0.1111111111111111,
             "#46039f"
            ],
            [
             0.2222222222222222,
             "#7201a8"
            ],
            [
             0.3333333333333333,
             "#9c179e"
            ],
            [
             0.4444444444444444,
             "#bd3786"
            ],
            [
             0.5555555555555556,
             "#d8576b"
            ],
            [
             0.6666666666666666,
             "#ed7953"
            ],
            [
             0.7777777777777778,
             "#fb9f3a"
            ],
            [
             0.8888888888888888,
             "#fdca26"
            ],
            [
             1,
             "#f0f921"
            ]
           ]
          },
          "colorway": [
           "#636efa",
           "#EF553B",
           "#00cc96",
           "#ab63fa",
           "#FFA15A",
           "#19d3f3",
           "#FF6692",
           "#B6E880",
           "#FF97FF",
           "#FECB52"
          ],
          "font": {
           "color": "#2a3f5f"
          },
          "geo": {
           "bgcolor": "white",
           "lakecolor": "white",
           "landcolor": "#E5ECF6",
           "showlakes": true,
           "showland": true,
           "subunitcolor": "white"
          },
          "hoverlabel": {
           "align": "left"
          },
          "hovermode": "closest",
          "mapbox": {
           "style": "light"
          },
          "paper_bgcolor": "white",
          "plot_bgcolor": "#E5ECF6",
          "polar": {
           "angularaxis": {
            "gridcolor": "white",
            "linecolor": "white",
            "ticks": ""
           },
           "bgcolor": "#E5ECF6",
           "radialaxis": {
            "gridcolor": "white",
            "linecolor": "white",
            "ticks": ""
           }
          },
          "scene": {
           "xaxis": {
            "backgroundcolor": "#E5ECF6",
            "gridcolor": "white",
            "gridwidth": 2,
            "linecolor": "white",
            "showbackground": true,
            "ticks": "",
            "zerolinecolor": "white"
           },
           "yaxis": {
            "backgroundcolor": "#E5ECF6",
            "gridcolor": "white",
            "gridwidth": 2,
            "linecolor": "white",
            "showbackground": true,
            "ticks": "",
            "zerolinecolor": "white"
           },
           "zaxis": {
            "backgroundcolor": "#E5ECF6",
            "gridcolor": "white",
            "gridwidth": 2,
            "linecolor": "white",
            "showbackground": true,
            "ticks": "",
            "zerolinecolor": "white"
           }
          },
          "shapedefaults": {
           "line": {
            "color": "#2a3f5f"
           }
          },
          "ternary": {
           "aaxis": {
            "gridcolor": "white",
            "linecolor": "white",
            "ticks": ""
           },
           "baxis": {
            "gridcolor": "white",
            "linecolor": "white",
            "ticks": ""
           },
           "bgcolor": "#E5ECF6",
           "caxis": {
            "gridcolor": "white",
            "linecolor": "white",
            "ticks": ""
           }
          },
          "title": {
           "x": 0.05
          },
          "xaxis": {
           "automargin": true,
           "gridcolor": "white",
           "linecolor": "white",
           "ticks": "",
           "title": {
            "standoff": 15
           },
           "zerolinecolor": "white",
           "zerolinewidth": 2
          },
          "yaxis": {
           "automargin": true,
           "gridcolor": "white",
           "linecolor": "white",
           "ticks": "",
           "title": {
            "standoff": 15
           },
           "zerolinecolor": "white",
           "zerolinewidth": 2
          }
         }
        },
        "title": {
         "text": "Total Auto Thefts by Precinct (Descending Order)"
        },
        "xaxis": {
         "title": {
          "text": "Precinct"
         }
        },
        "yaxis": {
         "title": {
          "text": "Count"
         }
        }
       }
      },
      "text/html": [
       "<div>                            <div id=\"d085940b-04dc-4206-b60c-e29ac577f540\" class=\"plotly-graph-div\" style=\"height:525px; width:100%;\"></div>            <script type=\"text/javascript\">                require([\"plotly\"], function(Plotly) {                    window.PLOTLYENV=window.PLOTLYENV || {};                                    if (document.getElementById(\"d085940b-04dc-4206-b60c-e29ac577f540\")) {                    Plotly.newPlot(                        \"d085940b-04dc-4206-b60c-e29ac577f540\",                        [{\"marker\":{\"color\":[0.0,0.25,0.5,0.75,1.0],\"coloraxis\":\"coloraxis\"},\"x\":[\"3\",\"5\",\"4\",\"2\",\"1\"],\"y\":[2394,2200,1358,1275,765],\"type\":\"bar\"}],                        {\"template\":{\"data\":{\"histogram2dcontour\":[{\"type\":\"histogram2dcontour\",\"colorbar\":{\"outlinewidth\":0,\"ticks\":\"\"},\"colorscale\":[[0.0,\"#0d0887\"],[0.1111111111111111,\"#46039f\"],[0.2222222222222222,\"#7201a8\"],[0.3333333333333333,\"#9c179e\"],[0.4444444444444444,\"#bd3786\"],[0.5555555555555556,\"#d8576b\"],[0.6666666666666666,\"#ed7953\"],[0.7777777777777778,\"#fb9f3a\"],[0.8888888888888888,\"#fdca26\"],[1.0,\"#f0f921\"]]}],\"choropleth\":[{\"type\":\"choropleth\",\"colorbar\":{\"outlinewidth\":0,\"ticks\":\"\"}}],\"histogram2d\":[{\"type\":\"histogram2d\",\"colorbar\":{\"outlinewidth\":0,\"ticks\":\"\"},\"colorscale\":[[0.0,\"#0d0887\"],[0.1111111111111111,\"#46039f\"],[0.2222222222222222,\"#7201a8\"],[0.3333333333333333,\"#9c179e\"],[0.4444444444444444,\"#bd3786\"],[0.5555555555555556,\"#d8576b\"],[0.6666666666666666,\"#ed7953\"],[0.7777777777777778,\"#fb9f3a\"],[0.8888888888888888,\"#fdca26\"],[1.0,\"#f0f921\"]]}],\"heatmap\":[{\"type\":\"heatmap\",\"colorbar\":{\"outlinewidth\":0,\"ticks\":\"\"},\"colorscale\":[[0.0,\"#0d0887\"],[0.1111111111111111,\"#46039f\"],[0.2222222222222222,\"#7201a8\"],[0.3333333333333333,\"#9c179e\"],[0.4444444444444444,\"#bd3786\"],[0.5555555555555556,\"#d8576b\"],[0.6666666666666666,\"#ed7953\"],[0.7777777777777778,\"#fb9f3a\"],[0.8888888888888888,\"#fdca26\"],[1.0,\"#f0f921\"]]}],\"heatmapgl\":[{\"type\":\"heatmapgl\",\"colorbar\":{\"outlinewidth\":0,\"ticks\":\"\"},\"colorscale\":[[0.0,\"#0d0887\"],[0.1111111111111111,\"#46039f\"],[0.2222222222222222,\"#7201a8\"],[0.3333333333333333,\"#9c179e\"],[0.4444444444444444,\"#bd3786\"],[0.5555555555555556,\"#d8576b\"],[0.6666666666666666,\"#ed7953\"],[0.7777777777777778,\"#fb9f3a\"],[0.8888888888888888,\"#fdca26\"],[1.0,\"#f0f921\"]]}],\"contourcarpet\":[{\"type\":\"contourcarpet\",\"colorbar\":{\"outlinewidth\":0,\"ticks\":\"\"}}],\"contour\":[{\"type\":\"contour\",\"colorbar\":{\"outlinewidth\":0,\"ticks\":\"\"},\"colorscale\":[[0.0,\"#0d0887\"],[0.1111111111111111,\"#46039f\"],[0.2222222222222222,\"#7201a8\"],[0.3333333333333333,\"#9c179e\"],[0.4444444444444444,\"#bd3786\"],[0.5555555555555556,\"#d8576b\"],[0.6666666666666666,\"#ed7953\"],[0.7777777777777778,\"#fb9f3a\"],[0.8888888888888888,\"#fdca26\"],[1.0,\"#f0f921\"]]}],\"surface\":[{\"type\":\"surface\",\"colorbar\":{\"outlinewidth\":0,\"ticks\":\"\"},\"colorscale\":[[0.0,\"#0d0887\"],[0.1111111111111111,\"#46039f\"],[0.2222222222222222,\"#7201a8\"],[0.3333333333333333,\"#9c179e\"],[0.4444444444444444,\"#bd3786\"],[0.5555555555555556,\"#d8576b\"],[0.6666666666666666,\"#ed7953\"],[0.7777777777777778,\"#fb9f3a\"],[0.8888888888888888,\"#fdca26\"],[1.0,\"#f0f921\"]]}],\"mesh3d\":[{\"type\":\"mesh3d\",\"colorbar\":{\"outlinewidth\":0,\"ticks\":\"\"}}],\"scatter\":[{\"fillpattern\":{\"fillmode\":\"overlay\",\"size\":10,\"solidity\":0.2},\"type\":\"scatter\"}],\"parcoords\":[{\"type\":\"parcoords\",\"line\":{\"colorbar\":{\"outlinewidth\":0,\"ticks\":\"\"}}}],\"scatterpolargl\":[{\"type\":\"scatterpolargl\",\"marker\":{\"colorbar\":{\"outlinewidth\":0,\"ticks\":\"\"}}}],\"bar\":[{\"error_x\":{\"color\":\"#2a3f5f\"},\"error_y\":{\"color\":\"#2a3f5f\"},\"marker\":{\"line\":{\"color\":\"#E5ECF6\",\"width\":0.5},\"pattern\":{\"fillmode\":\"overlay\",\"size\":10,\"solidity\":0.2}},\"type\":\"bar\"}],\"scattergeo\":[{\"type\":\"scattergeo\",\"marker\":{\"colorbar\":{\"outlinewidth\":0,\"ticks\":\"\"}}}],\"scatterpolar\":[{\"type\":\"scatterpolar\",\"marker\":{\"colorbar\":{\"outlinewidth\":0,\"ticks\":\"\"}}}],\"histogram\":[{\"marker\":{\"pattern\":{\"fillmode\":\"overlay\",\"size\":10,\"solidity\":0.2}},\"type\":\"histogram\"}],\"scattergl\":[{\"type\":\"scattergl\",\"marker\":{\"colorbar\":{\"outlinewidth\":0,\"ticks\":\"\"}}}],\"scatter3d\":[{\"type\":\"scatter3d\",\"line\":{\"colorbar\":{\"outlinewidth\":0,\"ticks\":\"\"}},\"marker\":{\"colorbar\":{\"outlinewidth\":0,\"ticks\":\"\"}}}],\"scattermapbox\":[{\"type\":\"scattermapbox\",\"marker\":{\"colorbar\":{\"outlinewidth\":0,\"ticks\":\"\"}}}],\"scatterternary\":[{\"type\":\"scatterternary\",\"marker\":{\"colorbar\":{\"outlinewidth\":0,\"ticks\":\"\"}}}],\"scattercarpet\":[{\"type\":\"scattercarpet\",\"marker\":{\"colorbar\":{\"outlinewidth\":0,\"ticks\":\"\"}}}],\"carpet\":[{\"aaxis\":{\"endlinecolor\":\"#2a3f5f\",\"gridcolor\":\"white\",\"linecolor\":\"white\",\"minorgridcolor\":\"white\",\"startlinecolor\":\"#2a3f5f\"},\"baxis\":{\"endlinecolor\":\"#2a3f5f\",\"gridcolor\":\"white\",\"linecolor\":\"white\",\"minorgridcolor\":\"white\",\"startlinecolor\":\"#2a3f5f\"},\"type\":\"carpet\"}],\"table\":[{\"cells\":{\"fill\":{\"color\":\"#EBF0F8\"},\"line\":{\"color\":\"white\"}},\"header\":{\"fill\":{\"color\":\"#C8D4E3\"},\"line\":{\"color\":\"white\"}},\"type\":\"table\"}],\"barpolar\":[{\"marker\":{\"line\":{\"color\":\"#E5ECF6\",\"width\":0.5},\"pattern\":{\"fillmode\":\"overlay\",\"size\":10,\"solidity\":0.2}},\"type\":\"barpolar\"}],\"pie\":[{\"automargin\":true,\"type\":\"pie\"}]},\"layout\":{\"autotypenumbers\":\"strict\",\"colorway\":[\"#636efa\",\"#EF553B\",\"#00cc96\",\"#ab63fa\",\"#FFA15A\",\"#19d3f3\",\"#FF6692\",\"#B6E880\",\"#FF97FF\",\"#FECB52\"],\"font\":{\"color\":\"#2a3f5f\"},\"hovermode\":\"closest\",\"hoverlabel\":{\"align\":\"left\"},\"paper_bgcolor\":\"white\",\"plot_bgcolor\":\"#E5ECF6\",\"polar\":{\"bgcolor\":\"#E5ECF6\",\"angularaxis\":{\"gridcolor\":\"white\",\"linecolor\":\"white\",\"ticks\":\"\"},\"radialaxis\":{\"gridcolor\":\"white\",\"linecolor\":\"white\",\"ticks\":\"\"}},\"ternary\":{\"bgcolor\":\"#E5ECF6\",\"aaxis\":{\"gridcolor\":\"white\",\"linecolor\":\"white\",\"ticks\":\"\"},\"baxis\":{\"gridcolor\":\"white\",\"linecolor\":\"white\",\"ticks\":\"\"},\"caxis\":{\"gridcolor\":\"white\",\"linecolor\":\"white\",\"ticks\":\"\"}},\"coloraxis\":{\"colorbar\":{\"outlinewidth\":0,\"ticks\":\"\"}},\"colorscale\":{\"sequential\":[[0.0,\"#0d0887\"],[0.1111111111111111,\"#46039f\"],[0.2222222222222222,\"#7201a8\"],[0.3333333333333333,\"#9c179e\"],[0.4444444444444444,\"#bd3786\"],[0.5555555555555556,\"#d8576b\"],[0.6666666666666666,\"#ed7953\"],[0.7777777777777778,\"#fb9f3a\"],[0.8888888888888888,\"#fdca26\"],[1.0,\"#f0f921\"]],\"sequentialminus\":[[0.0,\"#0d0887\"],[0.1111111111111111,\"#46039f\"],[0.2222222222222222,\"#7201a8\"],[0.3333333333333333,\"#9c179e\"],[0.4444444444444444,\"#bd3786\"],[0.5555555555555556,\"#d8576b\"],[0.6666666666666666,\"#ed7953\"],[0.7777777777777778,\"#fb9f3a\"],[0.8888888888888888,\"#fdca26\"],[1.0,\"#f0f921\"]],\"diverging\":[[0,\"#8e0152\"],[0.1,\"#c51b7d\"],[0.2,\"#de77ae\"],[0.3,\"#f1b6da\"],[0.4,\"#fde0ef\"],[0.5,\"#f7f7f7\"],[0.6,\"#e6f5d0\"],[0.7,\"#b8e186\"],[0.8,\"#7fbc41\"],[0.9,\"#4d9221\"],[1,\"#276419\"]]},\"xaxis\":{\"gridcolor\":\"white\",\"linecolor\":\"white\",\"ticks\":\"\",\"title\":{\"standoff\":15},\"zerolinecolor\":\"white\",\"automargin\":true,\"zerolinewidth\":2},\"yaxis\":{\"gridcolor\":\"white\",\"linecolor\":\"white\",\"ticks\":\"\",\"title\":{\"standoff\":15},\"zerolinecolor\":\"white\",\"automargin\":true,\"zerolinewidth\":2},\"scene\":{\"xaxis\":{\"backgroundcolor\":\"#E5ECF6\",\"gridcolor\":\"white\",\"linecolor\":\"white\",\"showbackground\":true,\"ticks\":\"\",\"zerolinecolor\":\"white\",\"gridwidth\":2},\"yaxis\":{\"backgroundcolor\":\"#E5ECF6\",\"gridcolor\":\"white\",\"linecolor\":\"white\",\"showbackground\":true,\"ticks\":\"\",\"zerolinecolor\":\"white\",\"gridwidth\":2},\"zaxis\":{\"backgroundcolor\":\"#E5ECF6\",\"gridcolor\":\"white\",\"linecolor\":\"white\",\"showbackground\":true,\"ticks\":\"\",\"zerolinecolor\":\"white\",\"gridwidth\":2}},\"shapedefaults\":{\"line\":{\"color\":\"#2a3f5f\"}},\"annotationdefaults\":{\"arrowcolor\":\"#2a3f5f\",\"arrowhead\":0,\"arrowwidth\":1},\"geo\":{\"bgcolor\":\"white\",\"landcolor\":\"#E5ECF6\",\"subunitcolor\":\"white\",\"showland\":true,\"showlakes\":true,\"lakecolor\":\"white\"},\"title\":{\"x\":0.05},\"mapbox\":{\"style\":\"light\"}}},\"coloraxis\":{\"colorbar\":{\"title\":{\"text\":\"Color Scale\"}},\"colorscale\":[[0.0,\"#440154\"],[0.1111111111111111,\"#482878\"],[0.2222222222222222,\"#3e4989\"],[0.3333333333333333,\"#31688e\"],[0.4444444444444444,\"#26828e\"],[0.5555555555555556,\"#1f9e89\"],[0.6666666666666666,\"#35b779\"],[0.7777777777777778,\"#6ece58\"],[0.8888888888888888,\"#b5de2b\"],[1.0,\"#fde725\"]]},\"title\":{\"text\":\"Total Auto Thefts by Precinct (Descending Order)\"},\"xaxis\":{\"title\":{\"text\":\"Precinct\"}},\"yaxis\":{\"title\":{\"text\":\"Count\"}}},                        {\"responsive\": true}                    ).then(function(){\n",
       "                            \n",
       "var gd = document.getElementById('d085940b-04dc-4206-b60c-e29ac577f540');\n",
       "var x = new MutationObserver(function (mutations, observer) {{\n",
       "        var display = window.getComputedStyle(gd).display;\n",
       "        if (!display || display === 'none') {{\n",
       "            console.log([gd, 'removed!']);\n",
       "            Plotly.purge(gd);\n",
       "            observer.disconnect();\n",
       "        }}\n",
       "}});\n",
       "\n",
       "// Listen for the removal of the full notebook cells\n",
       "var notebookContainer = gd.closest('#notebook-container');\n",
       "if (notebookContainer) {{\n",
       "    x.observe(notebookContainer, {childList: true});\n",
       "}}\n",
       "\n",
       "// Listen for the clearing of the current output cell\n",
       "var outputEl = gd.closest('.output');\n",
       "if (outputEl) {{\n",
       "    x.observe(outputEl, {childList: true});\n",
       "}}\n",
       "\n",
       "                        })                };                });            </script>        </div>"
      ]
     },
     "metadata": {},
     "output_type": "display_data"
    }
   ],
   "source": [
    "# Calculate total counts by precinct\n",
    "precinct_totals = autoth_df.groupby('precinct').size()\n",
    "\n",
    "# Remove specific precincts\n",
    "precincts_to_remove = ['0', 'UI']\n",
    "precinct_totals = precinct_totals[~precinct_totals.index.isin(precincts_to_remove)]\n",
    "\n",
    "# Sort in ascending order\n",
    "ascending_totals = precinct_totals.sort_values()\n",
    "\n",
    "# Calculate color scale\n",
    "color_scale = np.linspace(0, 1, len(ascending_totals))\n",
    "\n",
    "# Create a bar chart for ascending order with gradient coloring\n",
    "fig_asc = go.Figure(data=[\n",
    "    go.Bar(\n",
    "        x=ascending_totals.index,\n",
    "        y=ascending_totals,\n",
    "        marker=dict(color=color_scale, coloraxis=\"coloraxis\")\n",
    "    )\n",
    "])\n",
    "\n",
    "# Customize the ascending chart layout\n",
    "fig_asc.update_layout(\n",
    "    title='Total Auto Thefts by Precinct (Ascending Order)',\n",
    "    xaxis_title='Precinct',\n",
    "    yaxis_title='Count',\n",
    "    coloraxis=dict(\n",
    "        colorbar=dict(\n",
    "            title=\"Color Scale\"\n",
    "        ),\n",
    "        colorscale=\"Viridis\"\n",
    "    )\n",
    ")\n",
    "\n",
    "# Sort in descending order\n",
    "descending_totals = precinct_totals.sort_values(ascending=False)\n",
    "\n",
    "# Calculate color scale\n",
    "color_scale = np.linspace(0, 1, len(descending_totals))\n",
    "\n",
    "# Create a bar chart for descending order with gradient coloring\n",
    "fig_desc = go.Figure(data=[\n",
    "    go.Bar(\n",
    "        x=descending_totals.index,\n",
    "        y=descending_totals,\n",
    "        marker=dict(color=color_scale, coloraxis=\"coloraxis\")\n",
    "    )\n",
    "])\n",
    "\n",
    "# Customize the descending chart layout\n",
    "fig_desc.update_layout(\n",
    "    title='Total Auto Thefts by Precinct (Descending Order)',\n",
    "    xaxis_title='Precinct',\n",
    "    yaxis_title='Count',\n",
    "    coloraxis=dict(\n",
    "        colorbar=dict(\n",
    "            title=\"Color Scale\"\n",
    "        ),\n",
    "        colorscale=\"Viridis\"\n",
    "    )\n",
    ")\n",
    "\n",
    "# Display the charts\n",
    "fig_asc.show()\n",
    "fig_desc.show()"
   ]
  },
  {
   "cell_type": "code",
   "execution_count": null,
   "id": "a904ca09",
   "metadata": {},
   "outputs": [],
   "source": []
  }
 ],
 "metadata": {
  "kernelspec": {
   "display_name": "Python 3 (ipykernel)",
   "language": "python",
   "name": "python3"
  },
  "language_info": {
   "codemirror_mode": {
    "name": "ipython",
    "version": 3
   },
   "file_extension": ".py",
   "mimetype": "text/x-python",
   "name": "python",
   "nbconvert_exporter": "python",
   "pygments_lexer": "ipython3",
   "version": "3.10.13"
  }
 },
 "nbformat": 4,
 "nbformat_minor": 5
}
